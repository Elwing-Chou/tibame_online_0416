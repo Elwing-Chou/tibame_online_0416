{
  "nbformat": 4,
  "nbformat_minor": 0,
  "metadata": {
    "colab": {
      "provenance": [],
      "authorship_tag": "ABX9TyNYjpg6vYz+fi11lyjPU9D2",
      "include_colab_link": true
    },
    "kernelspec": {
      "name": "python3",
      "display_name": "Python 3"
    },
    "language_info": {
      "name": "python"
    }
  },
  "cells": [
    {
      "cell_type": "markdown",
      "metadata": {
        "id": "view-in-github",
        "colab_type": "text"
      },
      "source": [
        "<a href=\"https://colab.research.google.com/github/Elwing-Chou/tibame_online_0416/blob/main/tibame_0503_lab.ipynb\" target=\"_parent\"><img src=\"https://colab.research.google.com/assets/colab-badge.svg\" alt=\"Open In Colab\"/></a>"
      ]
    },
    {
      "cell_type": "code",
      "execution_count": null,
      "metadata": {
        "id": "URxg3NNoSeO0"
      },
      "outputs": [],
      "source": [
        "import requests\n",
        "import bs4 as bs\n",
        "url = \"https://24h.pchome.com.tw/search/?q=%E5%90%B9%E9%A2%A8%E6%A9%9F\"\n",
        "# req.urlretrieve(url, \"xx.html\")\n",
        "resp = requests.get(url)\n",
        "html = bs.BeautifulSoup(resp.text)\n",
        "print(html)\n",
        "\n",
        "# 先進一頁 那頁的\n",
        "# 品牌/名稱/現在價格/一開始秀出的大圖(要存)\n",
        "# DataFrame"
      ]
    },
    {
      "cell_type": "code",
      "source": [
        "import requests\n",
        "import bs4 as bs\n",
        "\n",
        "url = \"https://24h.pchome.com.tw/prod/DMBP01-A900GPN0L\"\n",
        "resp = requests.get(url)\n",
        "html = bs.BeautifulSoup(resp.text)\n",
        "main_name = html.find(\"div\", {\"class\":\"o-prodMainName\"})\n",
        "brand = main_name.find(\"a\")\n",
        "if not brand == None:\n",
        "    brand_text = brand.text\n",
        "else:\n",
        "    brand_text = \"-\"\n",
        "goods_name = main_name.find(\"h1\")\n",
        "goods_name_text = goods_name.text\n",
        "print(brand_text)\n",
        "print(goods_name_text)"
      ],
      "metadata": {
        "colab": {
          "base_uri": "https://localhost:8080/"
        },
        "id": "htb46GDjvLOF",
        "outputId": "ea52a7f7-fb07-495c-eac3-a6b111222f06"
      },
      "execution_count": 2,
      "outputs": [
        {
          "output_type": "stream",
          "name": "stdout",
          "text": [
            "Dyson 戴森\n",
            "HD15 Supersonic 吹風機 溫控 負離子 (普魯士藍禮盒版)\n"
          ]
        }
      ]
    }
  ]
}