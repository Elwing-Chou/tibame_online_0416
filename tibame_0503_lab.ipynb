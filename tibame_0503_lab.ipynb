{
  "nbformat": 4,
  "nbformat_minor": 0,
  "metadata": {
    "colab": {
      "provenance": [],
      "authorship_tag": "ABX9TyNPFeFeTGu+0aj/Vub1iKDj",
      "include_colab_link": true
    },
    "kernelspec": {
      "name": "python3",
      "display_name": "Python 3"
    },
    "language_info": {
      "name": "python"
    }
  },
  "cells": [
    {
      "cell_type": "markdown",
      "metadata": {
        "id": "view-in-github",
        "colab_type": "text"
      },
      "source": [
        "<a href=\"https://colab.research.google.com/github/Elwing-Chou/tibame_online_0416/blob/main/tibame_0503_lab.ipynb\" target=\"_parent\"><img src=\"https://colab.research.google.com/assets/colab-badge.svg\" alt=\"Open In Colab\"/></a>"
      ]
    },
    {
      "cell_type": "code",
      "execution_count": null,
      "metadata": {
        "id": "URxg3NNoSeO0"
      },
      "outputs": [],
      "source": [
        "import requests\n",
        "import bs4 as bs\n",
        "url = \"https://24h.pchome.com.tw/search/?q=%E5%90%B9%E9%A2%A8%E6%A9%9F\"\n",
        "# req.urlretrieve(url, \"xx.html\")\n",
        "resp = requests.get(url)\n",
        "html = bs.BeautifulSoup(resp.text)\n",
        "# print(html)\n",
        "\n",
        "# 先進一頁 那頁的\n",
        "# 品牌/名稱/現在價格/一開始秀出的大圖(要存)\n",
        "# DataFrame: [{}, {}, {}]\n",
        "table = []"
      ]
    },
    {
      "cell_type": "code",
      "source": [
        "import requests\n",
        "import bs4 as bs\n",
        "import os\n",
        "\n",
        "url = \"https://24h.pchome.com.tw/prod/DMBP01-A900GPN0L\"\n",
        "resp = requests.get(url)\n",
        "html = bs.BeautifulSoup(resp.text)\n",
        "# 名稱/品牌\n",
        "main_name = html.find(\"div\", {\"class\":\"o-prodMainName\"})\n",
        "brand = main_name.find(\"a\")\n",
        "if not brand == None:\n",
        "    brand_text = brand.text\n",
        "else:\n",
        "    brand_text = \"-\"\n",
        "goods_name = main_name.find(\"h1\")\n",
        "goods_name_text = goods_name.text\n",
        "# 價格\n",
        "price = html.find(\"div\", {\"class\":\"o-prodPrice__price\"})\n",
        "price_text = price.text\n",
        "# 圖片\n",
        "goods_img = html.find(\"div\", {\"class\":\"c-radiusPhotoImage__img\"}).find(\"img\")\n",
        "goods_img_src = \"https:\" + goods_img[\"src\"]\n",
        "\n",
        "print(brand_text)\n",
        "print(goods_name_text)\n",
        "print(price_text)\n",
        "print(goods_img_src)\n",
        "\n",
        "# download img\n",
        "# 如果可以, 當然用urlretrieve\n",
        "dn = \"pchome\"\n",
        "if not os.path.exists(dn):\n",
        "    os.makedirs(dn)\n",
        "fn = url.split(\"/\")[-1]\n",
        "fn = dn + \"/\" + fn + \".jpg\"\n",
        "img_resp = requests.get(goods_img_src, stream=True)\n",
        "with open(fn, \"wb\") as f:\n",
        "    f.write(img_resp.raw.read())"
      ],
      "metadata": {
        "colab": {
          "base_uri": "https://localhost:8080/"
        },
        "id": "htb46GDjvLOF",
        "outputId": "efef68fe-010a-4ab8-f205-26e5132b202d"
      },
      "execution_count": 6,
      "outputs": [
        {
          "output_type": "stream",
          "name": "stdout",
          "text": [
            "Dyson 戴森\n",
            "HD15 Supersonic 吹風機 溫控 負離子 (普魯士藍禮盒版)\n",
            "$9,999\n",
            "https://cs-a.ecimg.tw/items/DMBP01A900GPN0L/yt000001_1745888989.jpg\n"
          ]
        }
      ]
    },
    {
      "cell_type": "code",
      "source": [
        "# 定義成寒是\n",
        "import requests\n",
        "import bs4 as bs\n",
        "import os\n",
        "\n",
        "def analaze_page(url):\n",
        "    # url = \"https://24h.pchome.com.tw/prod/DMBP01-A900GPN0L\"\n",
        "    resp = requests.get(url)\n",
        "    html = bs.BeautifulSoup(resp.text)\n",
        "    # 名稱/品牌\n",
        "    main_name = html.find(\"div\", {\"class\":\"o-prodMainName\"})\n",
        "    brand = main_name.find(\"a\")\n",
        "    if not brand == None:\n",
        "        brand_text = brand.text\n",
        "    else:\n",
        "        brand_text = \"-\"\n",
        "    goods_name = main_name.find(\"h1\")\n",
        "    goods_name_text = goods_name.text\n",
        "    # 價格\n",
        "    price = html.find(\"div\", {\"class\":\"o-prodPrice__price\"})\n",
        "    price_text = price.text\n",
        "    # 圖片\n",
        "    goods_img = html.find(\"div\", {\"class\":\"c-radiusPhotoImage__img\"}).find(\"img\")\n",
        "    goods_img_src = \"https:\" + goods_img[\"src\"]\n",
        "\n",
        "    # print(brand_text)\n",
        "    # print(goods_name_text)\n",
        "    # print(price_text)\n",
        "    # print(goods_img_src)\n",
        "\n",
        "    # download img\n",
        "    # 如果可以, 當然用urlretrieve\n",
        "    dn = \"pchome\"\n",
        "    if not os.path.exists(dn):\n",
        "        os.makedirs(dn)\n",
        "    fn = url.split(\"/\")[-1]\n",
        "    fn = dn + \"/\" + fn + \".jpg\"\n",
        "    img_resp = requests.get(goods_img_src, stream=True)\n",
        "    with open(fn, \"wb\") as f:\n",
        "        f.write(img_resp.raw.read())\n",
        "\n",
        "    data = {\n",
        "        \"brand\": brand_text,\n",
        "        \"name\": goods_name_text,\n",
        "        \"price\": price_text,\n",
        "        \"img\": goods_img_src,\n",
        "        \"img_path\":fn\n",
        "    }\n",
        "    return data\n"
      ],
      "metadata": {
        "id": "kV2szvmG22Rg"
      },
      "execution_count": 7,
      "outputs": []
    }
  ]
}