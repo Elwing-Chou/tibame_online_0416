{
  "nbformat": 4,
  "nbformat_minor": 0,
  "metadata": {
    "colab": {
      "provenance": [],
      "authorship_tag": "ABX9TyM9kiH7ucLpveQbXSbVKF0B",
      "include_colab_link": true
    },
    "kernelspec": {
      "name": "python3",
      "display_name": "Python 3"
    },
    "language_info": {
      "name": "python"
    }
  },
  "cells": [
    {
      "cell_type": "markdown",
      "metadata": {
        "id": "view-in-github",
        "colab_type": "text"
      },
      "source": [
        "<a href=\"https://colab.research.google.com/github/Elwing-Chou/tibame_online_0416/blob/main/tibame_0503.ipynb\" target=\"_parent\"><img src=\"https://colab.research.google.com/assets/colab-badge.svg\" alt=\"Open In Colab\"/></a>"
      ]
    },
    {
      "cell_type": "markdown",
      "source": [
        "```\n",
        "0. 中文分析: 分詞 我喜歡你-> 我/喜歡/你\n",
        "抓出關鍵詞:\n",
        "1. 出現次數: 越高, 越重要\n",
        "2. 平常出現的頻率: 越低, 越重要\n",
        "\n",
        "詞彙重要性(TF-IDF): 次數(TF) * 1/平常出現頻率(IDF)\n",
        "\n",
        "分詞:  \n",
        "1. 辭典做初步話分(越大越好)\n",
        "2. (混淆/不知道) 利用上下文以及機率算法來算出哪種機率高\n",
        "\n",
        "混淆:乒乓球拍賣掉了\n",
        "```"
      ],
      "metadata": {
        "id": "g41R2_Ef07eQ"
      }
    },
    {
      "cell_type": "code",
      "execution_count": 2,
      "metadata": {
        "id": "r7uT4Dng0yHM"
      },
      "outputs": [],
      "source": [
        "news = \"\"\"港星謝霆鋒與張柏芝育有兩子謝振軒（Lucas）及謝振南（Quintus），可惜夫妻倆自2011年與結束5年婚姻。謝霆鋒近期在香港啟德體育場舉辦一連4場演唱會，繼日前女友王菲低調捧場之外，媽媽狄波拉也帶著Lucas、Quintus一起在台下聆聽。近日更有港媒報導指出，謝霆鋒的17歲長子Lucas已考入劍橋大學物理系。\n",
        "\n",
        "謝霆鋒近期在香港啟德體育場舉辦一連4場演唱會，媽媽狄波拉也帶著Lucas、Quintus一起在台下聆聽。（圖／翻攝自謝霆鋒微博、小紅書）\n",
        "謝霆鋒近期在香港啟德體育場舉辦一連4場演唱會，媽媽狄波拉也帶著Lucas、Quintus一起在台下聆聽。（圖／翻攝自謝霆鋒微博、小紅書）\n",
        "▲▼謝霆鋒近期在香港啟德體育場舉辦一連4場演唱會，媽媽狄波拉也帶著Lucas、Quintus一起在台下聆聽。（圖／翻攝自謝霆鋒微博、小紅書）\n",
        "\n",
        "謝霆鋒近期在香港啟德體育場舉辦一連4場演唱會，媽媽狄波拉也帶著Lucas、Quintus一起在台下聆聽。（圖／翻攝自謝霆鋒微博、小紅書）\n",
        "謝霆鋒近期在香港啟德體育場舉辦一連4場演唱會，媽媽狄波拉也帶著Lucas、Quintus一起在台下聆聽。（圖／翻攝自謝霆鋒微博、小紅書）\n",
        "謝霆鋒與張柏芝二人一直以來非常重視兩名兒子的成長和教育。大兒子Lucas有別於一般人對「星二代」的刻板印象，學業成績不俗，他與弟弟Quintus就讀位於沙田石門的基督教國際學校（International Christian School，ICS）。據了解，Lucas於15歲時花3年時間便完成5年的課程，而弟弟Quintus則取得全A成績，在學業方面表現相當出色。近日有港媒報導指，長子Lucas考入英國劍橋大學物理系，但父親謝霆鋒和母親張柏芝均未能證實消息。\n",
        "\n",
        "謝霆鋒近期在香港啟德體育場舉辦一連4場演唱會，媽媽狄波拉也帶著Lucas、Quintus一起在台下聆聽。（圖／翻攝自微博）\n",
        "謝霆鋒近期在香港啟德體育場舉辦一連4場演唱會，媽媽狄波拉也帶著Lucas、Quintus一起在台下聆聽。（圖／翻攝自微博）\n",
        "▲謝霆鋒近期在香港啟德體育場舉辦一連4場演唱會，媽媽狄波拉也帶著Lucas、Quintus一起在台下聆聽。（圖／翻攝自微博）\n",
        "\n",
        "謝霆鋒在演唱會前，下午與兩名兒子到啟德商場內一間餐廳吃飯，被大批網友野生捕獲。（圖／翻攝自微博）\n",
        "謝霆鋒在演唱會前，下午與兩名兒子到啟德商場內一間餐廳吃飯，被大批網友野生捕獲。（圖／翻攝自微博）\n",
        "▲謝霆鋒在演唱會前，下午與兩名兒子到啟德商場內一間餐廳吃飯，被大批網友野生捕獲。（圖／翻攝自微博）\n",
        "\n",
        "謝霆鋒在27日演唱會尾場開唱前，下午與兩名兒子到啟德商場內一間餐廳吃飯，被大批網友野生捕獲。可見謝霆鋒與兩名兒子先後進入食店，現場有客人即時認出三人。兩名兒子坐一排，謝霆鋒則坐在二人對面，謝霆鋒與兩子說話，而兩名兒子亦有回應父親，父子三人言談甚歡和諧。而當三人用餐完畢後便離開，謝霆鋒行最前，隨後的是Quintus及Lucas，Lucas再次面露微笑與現場熱情的粉絲打招呼，獲網友大讚親切有禮。\"\"\""
      ]
    },
    {
      "cell_type": "code",
      "source": [
        "import jieba\n",
        "import urllib.request as req\n",
        "url = \"https://github.com/fxsjy/jieba/raw/master/extra_dict/dict.txt.big\"\n",
        "req.urlretrieve(url, \"dict.txt.big\")\n",
        "jieba.set_dictionary(\"dict.txt.big\")\n",
        "jieba.load_userdict(\"mydict.txt\")\n",
        "\" \".join(jieba.cut(news))"
      ],
      "metadata": {
        "colab": {
          "base_uri": "https://localhost:8080/",
          "height": 453
        },
        "id": "wCKSGqW703MW",
        "outputId": "42a7bdf0-9373-4250-af23-8bf043bd2785"
      },
      "execution_count": 7,
      "outputs": [
        {
          "output_type": "stream",
          "name": "stderr",
          "text": [
            "Building prefix dict from /content/dict.txt.big ...\n",
            "DEBUG:jieba:Building prefix dict from /content/dict.txt.big ...\n",
            "Dumping model to file cache /tmp/jieba.u501edca284da514cb68b53a20324f4e3.cache\n",
            "DEBUG:jieba:Dumping model to file cache /tmp/jieba.u501edca284da514cb68b53a20324f4e3.cache\n",
            "Loading model cost 1.455 seconds.\n",
            "DEBUG:jieba:Loading model cost 1.455 seconds.\n",
            "Prefix dict has been built successfully.\n",
            "DEBUG:jieba:Prefix dict has been built successfully.\n"
          ]
        },
        {
          "output_type": "execute_result",
          "data": {
            "text/plain": [
              "'港星 謝霆鋒 與 張柏芝 育有 兩子 謝振軒 （ Lucas ） 及 謝振南 （ Quintus ） ， 可惜 夫妻倆 自 2011 年 與 結束 5 年 婚姻 。 謝霆鋒 近期 在 香港 啟德 體育場 舉辦 一連 4 場 演唱會 ， 繼 日前 女友 王菲 低調 捧場 之外 ， 媽媽 狄波拉 也 帶 著 Lucas 、 Quintus 一起 在 台下 聆聽 。 近日 更 有 港媒 報導 指出 ， 謝霆鋒 的 17 歲 長子 Lucas 已 考入 劍橋大學 物理系 。 \\n \\n 謝霆鋒 近期 在 香港 啟德 體育場 舉辦 一連 4 場 演唱會 ， 媽媽 狄波拉 也 帶 著 Lucas 、 Quintus 一起 在 台下 聆聽 。 （ 圖 ／ 翻攝 自 謝霆鋒 微博 、 小紅書 ） \\n 謝霆鋒 近期 在 香港 啟德 體育場 舉辦 一連 4 場 演唱會 ， 媽媽 狄波拉 也 帶 著 Lucas 、 Quintus 一起 在 台下 聆聽 。 （ 圖 ／ 翻攝 自 謝霆鋒 微博 、 小紅書 ） \\n ▲ ▼ 謝霆鋒 近期 在 香港 啟德 體育場 舉辦 一連 4 場 演唱會 ， 媽媽 狄波拉 也 帶 著 Lucas 、 Quintus 一起 在 台下 聆聽 。 （ 圖 ／ 翻攝 自 謝霆鋒 微博 、 小紅書 ） \\n \\n 謝霆鋒 近期 在 香港 啟德 體育場 舉辦 一連 4 場 演唱會 ， 媽媽 狄波拉 也 帶 著 Lucas 、 Quintus 一起 在 台下 聆聽 。 （ 圖 ／ 翻攝 自 謝霆鋒 微博 、 小紅書 ） \\n 謝霆鋒 近期 在 香港 啟德 體育場 舉辦 一連 4 場 演唱會 ， 媽媽 狄波拉 也 帶 著 Lucas 、 Quintus 一起 在 台下 聆聽 。 （ 圖 ／ 翻攝 自 謝霆鋒 微博 、 小紅書 ） \\n 謝霆鋒 與 張柏芝 二人 一直 以來 非常重視 兩名 兒子 的 成長 和 教育 。 大兒子 Lucas 有別於 一般 人 對 「 星 二代 」 的 刻板 印象 ， 學業成績 不俗 ， 他 與 弟弟 Quintus 就讀 位於 沙田 石門 的 基督教 國際 學校 （ International   Christian   School ， ICS ） 。 據 了解 ， Lucas 於 15 歲 時花 3 年 時間 便 完成 5 年 的 課程 ， 而 弟弟 Quintus 則 取得 全 A 成績 ， 在 學業 方面 表現 相當 出色 。 近日 有港媒 報導 指 ， 長子 Lucas 考入 英國劍橋大學 物理系 ， 但 父親 謝霆鋒 和 母親 張柏芝 均 未能 證實 消息 。 \\n \\n 謝霆鋒 近期 在 香港 啟德 體育場 舉辦 一連 4 場 演唱會 ， 媽媽 狄波拉 也 帶 著 Lucas 、 Quintus 一起 在 台下 聆聽 。 （ 圖 ／ 翻攝 自微博 ） \\n 謝霆鋒 近期 在 香港 啟德 體育場 舉辦 一連 4 場 演唱會 ， 媽媽 狄波拉 也 帶 著 Lucas 、 Quintus 一起 在 台下 聆聽 。 （ 圖 ／ 翻攝 自微博 ） \\n ▲ 謝霆鋒 近期 在 香港 啟德 體育場 舉辦 一連 4 場 演唱會 ， 媽媽 狄波拉 也 帶 著 Lucas 、 Quintus 一起 在 台下 聆聽 。 （ 圖 ／ 翻攝 自微博 ） \\n \\n 謝霆鋒 在 演唱會 前 ， 下午 與 兩名 兒子 到 啟德 商場 內 一間 餐廳 吃飯 ， 被 大批 網友 野生 捕獲 。 （ 圖 ／ 翻攝 自微博 ） \\n 謝霆鋒 在 演唱會 前 ， 下午 與 兩名 兒子 到 啟德 商場 內 一間 餐廳 吃飯 ， 被 大批 網友 野生 捕獲 。 （ 圖 ／ 翻攝 自微博 ） \\n ▲ 謝霆鋒 在 演唱會 前 ， 下午 與 兩名 兒子 到 啟德 商場 內 一間 餐廳 吃飯 ， 被 大批 網友 野生 捕獲 。 （ 圖 ／ 翻攝 自微博 ） \\n \\n 謝霆鋒 在 27 日 演唱會 尾場 開唱 前 ， 下午 與 兩名 兒子 到 啟德 商場 內 一間 餐廳 吃飯 ， 被 大批 網友 野生 捕獲 。 可見 謝霆鋒 與 兩名 兒子 先後 進入 食店 ， 現場 有 客人 即時 認出 三人 。 兩名 兒子 坐 一排 ， 謝霆鋒 則 坐在 二人 對面 ， 謝霆鋒 與 兩子 說話 ， 而 兩名 兒子 亦 有 回應 父親 ， 父子 三人 言談 甚歡 和諧 。 而 當三人 用餐 完畢 後 便 離開 ， 謝霆鋒 行 最前 ， 隨後 的 是 Quintus 及 Lucas ， Lucas 再次 面露 微笑 與 現場 熱情 的 粉絲 打招呼 ， 獲 網友 大 讚 親切 有禮 。'"
            ],
            "application/vnd.google.colaboratory.intrinsic+json": {
              "type": "string"
            }
          },
          "metadata": {},
          "execution_count": 7
        }
      ]
    },
    {
      "cell_type": "code",
      "source": [
        "import jieba.analyse\n",
        "\n",
        "jieba.analyse.extract_tags(news, allowPOS=[\"nr\", \"ns\"])"
      ],
      "metadata": {
        "colab": {
          "base_uri": "https://localhost:8080/"
        },
        "id": "cE5lz8Z604xo",
        "outputId": "c278c8da-c23e-46e7-cdd8-4faf57df53df"
      },
      "execution_count": 6,
      "outputs": [
        {
          "output_type": "execute_result",
          "data": {
            "text/plain": [
              "['謝霆鋒', '狄波拉', '小紅書', '香港', '張柏芝', '振南', '謝振軒', '王菲', '沙田']"
            ]
          },
          "metadata": {},
          "execution_count": 6
        }
      ]
    },
    {
      "cell_type": "code",
      "source": [
        "import pandas as pd\n",
        "url = \"https://github.com/Elwing-Chou/tibame_online_0416/raw/refs/heads/main/ptt.csv\"\n",
        "req.urlretrieve(url, \"ptt.csv\")\n",
        "df = pd.read_csv(\"ptt.csv\", encoding=\"utf-8\")\n",
        "df"
      ],
      "metadata": {
        "id": "wvfNhpoS61I_"
      },
      "execution_count": null,
      "outputs": []
    },
    {
      "cell_type": "code",
      "source": [
        "import jieba\n",
        "import jieba.analyse\n",
        "import urllib.request as req\n",
        "url = \"https://github.com/fxsjy/jieba/raw/master/extra_dict/dict.txt.big\"\n",
        "req.urlretrieve(url, \"dict.txt.big\")\n",
        "jieba.set_dictionary(\"dict.txt.big\")\n",
        "jieba.load_userdict(\"mydict.txt\")\n",
        "\n",
        "def func(s):\n",
        "    keywords = jieba.analyse.extract_tags(s)\n",
        "    return keywords\n",
        "df[\"標題(keyword)\"] = df[\"標題\"].apply(func)"
      ],
      "metadata": {
        "colab": {
          "base_uri": "https://localhost:8080/"
        },
        "id": "58tch9Ke72-8",
        "outputId": "0b548d19-c118-4866-b541-580de8ee9e18"
      },
      "execution_count": 11,
      "outputs": [
        {
          "output_type": "stream",
          "name": "stderr",
          "text": [
            "Building prefix dict from /content/dict.txt.big ...\n",
            "DEBUG:jieba:Building prefix dict from /content/dict.txt.big ...\n",
            "Dumping model to file cache /tmp/jieba.u501edca284da514cb68b53a20324f4e3.cache\n",
            "DEBUG:jieba:Dumping model to file cache /tmp/jieba.u501edca284da514cb68b53a20324f4e3.cache\n",
            "Loading model cost 1.544 seconds.\n",
            "DEBUG:jieba:Loading model cost 1.544 seconds.\n",
            "Prefix dict has been built successfully.\n",
            "DEBUG:jieba:Prefix dict has been built successfully.\n"
          ]
        }
      ]
    },
    {
      "cell_type": "code",
      "source": [
        "count = {}\n",
        "for keyword in df[\"標題(keyword)\"]:\n",
        "    for k in keyword:\n",
        "        if not k in count:\n",
        "            count[k] = 1\n",
        "        else:\n",
        "            count[k] = count[k] + 1\n",
        "# DataFrame: 二維(表格) Series: 一維(一行/一列)\n",
        "pd.Series(count, name=\"count\").sort_values(ascending=False)"
      ],
      "metadata": {
        "id": "yBXNjayo-fKB"
      },
      "execution_count": null,
      "outputs": []
    },
    {
      "cell_type": "code",
      "source": [
        "# from import有個特殊的功能: 更深一點(只import你需要的功能)\n",
        "# from urllib import request\n",
        "# from urllib.request import urlopen\n",
        "from datetime import datetime\n",
        "# 字串>日期: strptime\n",
        "# 日期>字串: strftime\n",
        "\n",
        "def func(s):\n",
        "    s_t = datetime.strptime(s, \"%a %b %d %H:%M:%S %Y\")\n",
        "    s_convert = datetime.strftime(s_t, \"%Y/%m/%d %H:%M:%S\")\n",
        "    return s_convert\n",
        "\n",
        "df[\"日期(改)\"] = df[\"日期\"].apply(func)\n",
        "\n",
        "# s = \"Mon Apr 28 10:47:22 2025\"\n",
        "# s_t = datetime.strptime(s, \"%a %b %d %H:%M:%S %Y\")\n",
        "# datetime.strftime(s_t, \"%Y/%m/%d %H:%M:%S\")"
      ],
      "metadata": {
        "id": "bS7p8eUQ_ezM"
      },
      "execution_count": 29,
      "outputs": []
    },
    {
      "cell_type": "code",
      "source": [
        "# df.sort_values(by=\"日期(改)\", ascending=False)"
      ],
      "metadata": {
        "id": "_l1W3IgSGJc1"
      },
      "execution_count": 32,
      "outputs": []
    },
    {
      "cell_type": "code",
      "source": [
        "import urllib.request as req\n",
        "import bs4 as bs\n",
        "# requests: 第三方, 他API會設計的相對方便一點點\n",
        "# 舊的\n",
        "url = \"https://www.ptt.cc/bbs/Beauty/M.1745582404.A.011.html\"\n",
        "r = req.Request(url)\n",
        "r.add_header(\"User-Agent\", \"ccc\")\n",
        "resp = req.urlopen(r)\n",
        "html = bs.BeautifulSoup(resp.read())\n",
        "\n",
        "# 如果使用requests函式庫\n",
        "import requests\n",
        "url = \"https://www.ptt.cc/bbs/Beauty/M.1745582404.A.011.html\"\n",
        "h = {\n",
        "    \"User-Agent\":\"Mozilla/5.0 (Windows NT 10.0; Win64; x64) AppleWebKit/537.36 (KHTML, like Gecko) Chrome/135.0.0.0 Safari/537.36 Edg/135.0.0.0\"\n",
        "}\n",
        "# open->get\n",
        "resp = requests.get(url, headers=h)\n",
        "# .read->.text\n",
        "html = bs.BeautifulSoup(resp.text)\n",
        "# 比較方便的API\n",
        "print(resp.request.headers)"
      ],
      "metadata": {
        "colab": {
          "base_uri": "https://localhost:8080/"
        },
        "id": "wEEKdcfDKGad",
        "outputId": "ae4b4e51-8741-40ad-c676-c673a7b4bdba"
      },
      "execution_count": 40,
      "outputs": [
        {
          "output_type": "stream",
          "name": "stdout",
          "text": [
            "{'User-Agent': 'ptttqrwtwqrtqwrt', 'Accept-Encoding': 'gzip, deflate, zstd', 'Accept': '*/*', 'Connection': 'keep-alive'}\n"
          ]
        }
      ]
    },
    {
      "cell_type": "code",
      "source": [
        "# 圖片的下載比對\n",
        "# urllib\n",
        "img_url = \"https://i.imgur.com/S20cVi5.jpeg\"\n",
        "r = req.Request(img_url)\n",
        "r.add_header(\"User-Agent\", \"Mozilla/5.0 (Windows NT 10.0; Win64; x64) AppleWebKit/537.36 (KHTML, like Gecko) Chrome/135.0.0.0 Safari/537.36 Edg/135.0.0.0\")\n",
        "img_resp = req.urlopen(r)\n",
        "with open(\"test.png\", \"wb\") as f:\n",
        "    f.write(img_resp.read())\n",
        "\n",
        "# requests函式庫\n",
        "img_url = \"https://i.imgur.com/S20cVi5.jpeg\"\n",
        "# 如果你確定你開的是一個非純文字的檔案(stream=True配.raw: 非純文字) (stream=False配.text: 純文字)\n",
        "h = {\n",
        "    \"User-Agent\":\"Mozilla/5.0 (Windows NT 10.0; Win64; x64) AppleWebKit/537.36 (KHTML, like Gecko) Chrome/135.0.0.0 Safari/537.36 Edg/135.0.0.0\"\n",
        "}\n",
        "img_resp = requests.get(img_url, stream=True, headers=h)\n",
        "with open(\"test2.png\", \"wb\") as f:\n",
        "    # .raw才是你的檔案\n",
        "    f.write(img_resp.raw.read())"
      ],
      "metadata": {
        "id": "1bo21W0pNaJH"
      },
      "execution_count": 43,
      "outputs": []
    }
  ]
}