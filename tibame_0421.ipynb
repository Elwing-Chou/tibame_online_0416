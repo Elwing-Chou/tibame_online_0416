{
  "nbformat": 4,
  "nbformat_minor": 0,
  "metadata": {
    "colab": {
      "provenance": [],
      "authorship_tag": "ABX9TyNKJup2BGGXssmcRMfmLO5X",
      "include_colab_link": true
    },
    "kernelspec": {
      "name": "python3",
      "display_name": "Python 3"
    },
    "language_info": {
      "name": "python"
    }
  },
  "cells": [
    {
      "cell_type": "markdown",
      "metadata": {
        "id": "view-in-github",
        "colab_type": "text"
      },
      "source": [
        "<a href=\"https://colab.research.google.com/github/Elwing-Chou/tibame_online_0416/blob/main/tibame_0421.ipynb\" target=\"_parent\"><img src=\"https://colab.research.google.com/assets/colab-badge.svg\" alt=\"Open In Colab\"/></a>"
      ]
    },
    {
      "cell_type": "markdown",
      "source": [
        "# Python群集型態\n",
        "\n",
        "\n",
        "```\n",
        "1. List(清單): [30, 20, 40]\n",
        "    - 放同類型的東西\n",
        "2. Dict(字典): {\"姓名\":\"Elwing\", \"身高\":175}\n",
        "    - 拿來聚合成一個複雜的資料\n",
        "前兩個最重要, 因為這兩個加起來就是JSON格式\n",
        "3. Set(不重複的集合): {\"周\", \"王\", \"何\"}\n",
        "    - 全台灣所有的姓氏集合(Set)\n",
        "    - 所有大於3小於10的整數(Set)\n",
        "    - 是不會讓你自訂key的(沒有key)\n",
        "    - 不重複, 所以你寫幾次都只會幫你保留一個\n",
        "    - 因為沒有key, 沒有所謂順序\n",
        "4. Tuple(簡化版本的字典): ()\n",
        "    - 一個pixel: {\"R\":255, \"G\":255, \"B\":255}\n",
        "    - 對於我們來說, rgb有共識的, 簡化一下 (255, 255, 255)\n",
        "    - 你可以把他想成 {0:255, 1:255, 2:255}\n",
        "    - tuple的key是0 1 2\n",
        "    - !!! tuple可以當成字典的key(因為key必須是永不可變的東西)\n",
        "    - !!! 字典key必須是不可變\n",
        "    \n",
        "```\n",
        "\n"
      ],
      "metadata": {
        "id": "ZuCJdStFCHCG"
      }
    },
    {
      "cell_type": "code",
      "source": [
        "s = {\"周\", \"王\", \"黃\", \"周\"}\n",
        "print(s)\n",
        "\n",
        "print(\"王\" in s)\n",
        "print(\"趙\" in s)\n",
        "\n",
        "for name in s:\n",
        "    print(\"-\", name)\n",
        "\n",
        "# 聯集/交集/減急\n",
        "\n",
        "A = {30, 20, 40, 50}\n",
        "B = {20, 40, 60, 70}\n",
        "# 交集(&):我們共有的\n",
        "print(A & B)\n",
        "# 聯集(|):列出所有的\n",
        "print(A | B)\n",
        "# 減集(-):A - B   A - (A 交集 B)\n",
        "print(A - B)"
      ],
      "metadata": {
        "colab": {
          "base_uri": "https://localhost:8080/"
        },
        "id": "dbLHNHR0GFfs",
        "outputId": "c052f0df-1120-43fc-9ab2-dfc28f478d3c"
      },
      "execution_count": 8,
      "outputs": [
        {
          "output_type": "stream",
          "name": "stdout",
          "text": [
            "{'王', '周', '黃'}\n",
            "True\n",
            "False\n",
            "- 王\n",
            "- 周\n",
            "- 黃\n",
            "{40, 20}\n",
            "{70, 40, 50, 20, 60, 30}\n",
            "{50, 30}\n"
          ]
        }
      ]
    }
  ]
}