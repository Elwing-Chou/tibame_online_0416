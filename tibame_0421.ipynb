{
  "nbformat": 4,
  "nbformat_minor": 0,
  "metadata": {
    "colab": {
      "provenance": [],
      "authorship_tag": "ABX9TyMBQlTwV+rGQHDixRYdOJT0",
      "include_colab_link": true
    },
    "kernelspec": {
      "name": "python3",
      "display_name": "Python 3"
    },
    "language_info": {
      "name": "python"
    }
  },
  "cells": [
    {
      "cell_type": "markdown",
      "metadata": {
        "id": "view-in-github",
        "colab_type": "text"
      },
      "source": [
        "<a href=\"https://colab.research.google.com/github/Elwing-Chou/tibame_online_0416/blob/main/tibame_0421.ipynb\" target=\"_parent\"><img src=\"https://colab.research.google.com/assets/colab-badge.svg\" alt=\"Open In Colab\"/></a>"
      ]
    },
    {
      "cell_type": "markdown",
      "source": [
        "# Python群集型態\n",
        "\n",
        "\n",
        "```\n",
        "1. List(清單): [30, 20, 40]\n",
        "    - 放同類型的東西\n",
        "2. Dict(字典): {\"姓名\":\"Elwing\", \"身高\":175}\n",
        "    - 拿來聚合成一個複雜的資料\n",
        "前兩個最重要, 因為這兩個加起來就是JSON格式\n",
        "3. Set(不重複的集合): {\"周\", \"王\", \"何\"}\n",
        "    - 全台灣所有的姓氏集合(Set)\n",
        "    - 所有大於3小於10的整數(Set)\n",
        "    - 是不會讓你自訂key的(沒有key)\n",
        "    - 不重複, 所以你寫幾次都只會幫你保留一個\n",
        "    - 因為沒有key, 沒有所謂順序\n",
        "4. Tuple(簡化版本的字典): ()\n",
        "    - 一個pixel: {\"R\":255, \"G\":255, \"B\":255}\n",
        "    - 對於我們來說, rgb有共識的, 簡化一下 (255, 255, 255)\n",
        "    - 你可以把他想成 {0:255, 1:255, 2:255}\n",
        "    - tuple的key是0 1 2\n",
        "    - !!! tuple可以當成字典的key(因為key必須是永不可變的東西)\n",
        "    - !!! 字典key必須是不可變\n",
        "    \n",
        "```\n",
        "\n"
      ],
      "metadata": {
        "id": "ZuCJdStFCHCG"
      }
    },
    {
      "cell_type": "code",
      "source": [
        "s = {\"周\", \"王\", \"黃\", \"周\"}\n",
        "print(s)\n",
        "\n",
        "print(\"王\" in s)\n",
        "print(\"趙\" in s)\n",
        "\n",
        "for name in s:\n",
        "    print(\"-\", name)\n",
        "\n",
        "# 聯集/交集/減急\n",
        "\n",
        "A = {30, 20, 40, 50}\n",
        "B = {20, 40, 60, 70}\n",
        "# 交集(&):我們共有的\n",
        "print(A & B)\n",
        "# 聯集(|):列出所有的\n",
        "print(A | B)\n",
        "# 減集(-):A - B   A - (A 交集 B)\n",
        "print(A - B)\n",
        "\n",
        "# set的專屬功能跟list的專屬功能是一樣的\n",
        "# 就是直接作用\n",
        "A.add(199)\n",
        "print(A)\n",
        "\n",
        "# 如果你今天丟一個在裡面的東西 remove=discard\n",
        "# 如果你今天丟一個不在裡面的東西 remove會出紅字 discard不做事\n",
        "A.discard(200)\n",
        "print(A)\n",
        "\n",
        "# add一定要記, discard就盡量"
      ],
      "metadata": {
        "colab": {
          "base_uri": "https://localhost:8080/"
        },
        "id": "dbLHNHR0GFfs",
        "outputId": "5531dfc1-4d5f-440e-ab7b-f70b148dada4"
      },
      "execution_count": 22,
      "outputs": [
        {
          "output_type": "stream",
          "name": "stdout",
          "text": [
            "{'王', '周', '黃'}\n",
            "True\n",
            "False\n",
            "- 王\n",
            "- 周\n",
            "- 黃\n",
            "{40, 20}\n",
            "{70, 40, 50, 20, 60, 30}\n",
            "{50, 30}\n",
            "{199, 40, 50, 20, 30}\n",
            "{199, 40, 50, 20, 30}\n"
          ]
        }
      ]
    },
    {
      "cell_type": "code",
      "source": [
        "# 第一個練習:\n",
        "# 之前的是 a / b 後的十位小數\n",
        "# extra 1. 整除就停下來\n",
        "a, b = 2, 5\n",
        "# 來解決a > b的情況\n",
        "result = str(a // b) + \".\"\n",
        "a = a % b\n",
        "\n",
        "for i in range(10):\n",
        "    # 2 -> 20\n",
        "    a10 = a * 10\n",
        "    # 20 // 7\n",
        "    result = result + str(a10 // b)\n",
        "    # 20 % 7 -> 6(a)\n",
        "    a = a10 % b\n",
        "    if a == 0:\n",
        "        break\n",
        "print(result)"
      ],
      "metadata": {
        "colab": {
          "base_uri": "https://localhost:8080/"
        },
        "id": "4GEVJeGAPWdE",
        "outputId": "da6150ca-ec5c-4ea5-8ed7-1205b4562b88"
      },
      "execution_count": 28,
      "outputs": [
        {
          "output_type": "stream",
          "name": "stdout",
          "text": [
            "0.4\n"
          ]
        }
      ]
    }
  ]
}