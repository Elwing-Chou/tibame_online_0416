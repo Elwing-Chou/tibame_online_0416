{
  "nbformat": 4,
  "nbformat_minor": 0,
  "metadata": {
    "colab": {
      "provenance": [],
      "authorship_tag": "ABX9TyO90FyFNzVZrl9ruXuhdS0w",
      "include_colab_link": true
    },
    "kernelspec": {
      "name": "python3",
      "display_name": "Python 3"
    },
    "language_info": {
      "name": "python"
    }
  },
  "cells": [
    {
      "cell_type": "markdown",
      "metadata": {
        "id": "view-in-github",
        "colab_type": "text"
      },
      "source": [
        "<a href=\"https://colab.research.google.com/github/Elwing-Chou/tibame_online_0416/blob/main/tibame_0426_2.ipynb\" target=\"_parent\"><img src=\"https://colab.research.google.com/assets/colab-badge.svg\" alt=\"Open In Colab\"/></a>"
      ]
    },
    {
      "cell_type": "markdown",
      "source": [
        "\n",
        "\n",
        "```\n",
        "1. 打開原始碼(網址列的答案)\n",
        "2. 原始碼有: 網址列\n",
        "        無: F12去找到哪個隱藏網址\n",
        "```\n",
        "\n"
      ],
      "metadata": {
        "id": "qo9DHyx364Sd"
      }
    },
    {
      "cell_type": "markdown",
      "source": [
        "\n",
        "\n",
        "```\n",
        "HTML(網頁格式)\n",
        "\n",
        "<a href=\"網址\"> -> 開始\n",
        "    Ramen Feel\n",
        "</a> -> 結束\n",
        "\n",
        "1. 名字: 決定他是什麼\n",
        "a: 超連結 img: 圖片 video: 影片\n",
        "\n",
        "2. 屬性: 決定他的細節(名=\"值\")\n",
        "a href=\"網址\"\n",
        "img/video src=\"網址\"\n",
        "\n",
        "3. 顯示文字:\n",
        "\n",
        "```\n",
        "\n"
      ],
      "metadata": {
        "id": "3oSO06DY8oIj"
      }
    },
    {
      "cell_type": "markdown",
      "source": [
        "\n",
        "\n",
        "```\n",
        "網頁構成\n",
        "\n",
        "1. 前端\n",
        "    a. HTML: 網頁的內容\n",
        "    b. CSS: 網頁的排版(!!!!)\n",
        "    c. JavaScript: 網頁的動態\n",
        "\n",
        "2. 後端\n",
        "    a. 網址的處理\n",
        "    b. 資料庫的處理\n",
        "\n",
        "CSS排版: 找到HTML區塊, 加上排版\n",
        "\n",
        "1. 利用HTML名字\n",
        "a{\n",
        "    background-color:red\n",
        "}\n",
        "\n",
        "為了能夠區分我要的HTML區塊, 所以我會在區塊上加了一個特別排版的屬性\n",
        "2. 利用class屬性\n",
        "class=\"分類1 分類2 分類3\"\n",
        ".分類{\n",
        "}\n",
        "\n",
        "3. 利用id屬性\n",
        "id=\"值\"\n",
        "#id名{\n",
        "}\n",
        "\n",
        "\n",
        "```\n",
        "\n"
      ],
      "metadata": {
        "id": "dkmMRXX1Cnnp"
      }
    },
    {
      "cell_type": "markdown",
      "source": [
        "快捷鍵\n",
        "Ctrl + \"/\": 多行註解"
      ],
      "metadata": {
        "id": "CJpqtGi6oTG_"
      }
    },
    {
      "cell_type": "code",
      "execution_count": 7,
      "metadata": {
        "colab": {
          "base_uri": "https://localhost:8080/"
        },
        "id": "kLnbXte65K5c",
        "outputId": "1788f506-30e1-4a37-a896-11578d7230c0"
      },
      "outputs": [
        {
          "output_type": "stream",
          "name": "stdout",
          "text": [
            "https://tabelog.com/tw/tokyo/A1330/A133003/13254631/\n",
            "Ramen FeeL\n",
            "Ramen FeeL\n"
          ]
        }
      ],
      "source": [
        "import urllib.request as req\n",
        "# BeautifulSoup4\n",
        "import bs4 as bs\n",
        "\n",
        "url = \"https://tabelog.com/tw/tokyo/rstLst/ramen/?SrtT=rt\"\n",
        "resp = req.urlopen(url)\n",
        "content = resp.read()\n",
        "\n",
        "# 上次適用json.loads把content(bytes)轉換成list/dict型態\n",
        "# 這次使用bs.BeautifulSoup來把contents轉換成bs裡的自訂型態(區塊型態)\n",
        "html = bs.BeautifulSoup(content)\n",
        "# print(html)\n",
        "\n",
        "# 區塊.find: 找到符合條件的第一個\n",
        "# 區塊.find_all: 找到所有符合條件的\n",
        "# 第一個參數: HTML名字\n",
        "# 第二個參數: 篩選條件(字典)\n",
        "# target = html.find(\"a\", {\"class\":\"list-rst__rst-name-target\"})\n",
        "# 找到對象區塊\n",
        "# 1. 特殊屬性(字典): 區塊[屬姓名]\n",
        "# 2. 顯示內容(專屬值): 區塊.text\n",
        "#            (專屬功能): 區塊.get_text()\n",
        "# 程式哲學: 型態(人)可以擁有兩種東西 a. 專屬功能(吃飯()/睡覺()/喝水())  b. 專屬值(身高/體重)\n",
        "# print(target[\"href\"])\n",
        "# print(target.text)\n",
        "# print(target.get_text())"
      ]
    },
    {
      "cell_type": "code",
      "source": [
        "import urllib.request as req\n",
        "import bs4 as bs\n",
        "\n",
        "url = \"https://tabelog.com/tw/okinawa/rstLst/1/?SrtT=rt\"\n",
        "resp = req.urlopen(url)\n",
        "content = resp.read()\n",
        "\n",
        "html = bs.BeautifulSoup(content)\n",
        "\n",
        "# 如果你用find_all: 找到的型態會是一個list\n",
        "rs = html.find_all(\"div\", {\"class\":\"list-rst__body\"})\n",
        "# list沒有所謂find_all, 區塊才有find/find_all\n",
        "for r in rs:\n",
        "    en = r.find(\"a\", {\"class\":\"list-rst__rst-name-target\"})\n",
        "    en_href = en[\"href\"]\n",
        "    en_text = en.text\n",
        "    # 處理area_genre: 地點和種類都有/只有種類\n",
        "    area_genre = r.find(\"div\", {\"class\":\"list-rst__area-genre\"})\n",
        "    area_genre_text = area_genre.text.strip()\n",
        "    area_genre_text_split = area_genre_text.split(\" / \")\n",
        "    area_text, genre_text = \"\", \"\"\n",
        "    if len(area_genre_text_split) == 1:\n",
        "        genre_text = area_genre_text_split[0]\n",
        "    elif len(area_genre_text_split) == 2:\n",
        "        area_text, genre_text = area_genre_text_split\n",
        "    # 分數\n",
        "    rating = r.find(\"span\", {\"class\":\"c-rating__val\"})\n",
        "    rating_text = rating.text\n",
        "    # 晚間/午間\n",
        "    prices = r.find_all(\"span\", {\"class\":\"c-rating-v3__val\"})\n",
        "    dinner_text = prices[0].text\n",
        "    lunch_text = prices[1].text\n",
        "    # 哪天沒開\n",
        "    holiday = r.find(\"span\", {\"class\":\"list-rst__holiday-text\"})\n",
        "    holiday_text = holiday.text\n",
        "    # print\n",
        "    print(rating_text)\n",
        "    print(en_text)\n",
        "    print(en_href)\n",
        "    print(area_text)\n",
        "    print(genre_text)\n",
        "    print(dinner_text)\n",
        "    print(lunch_text)\n",
        "    print(holiday_text)\n",
        "    print(\"-\" * 30)"
      ],
      "metadata": {
        "colab": {
          "base_uri": "https://localhost:8080/"
        },
        "id": "NLWpk-dZob9J",
        "outputId": "6f6ee7e7-770e-4eee-a1a1-350f5a2c1330"
      },
      "execution_count": 29,
      "outputs": [
        {
          "output_type": "stream",
          "name": "stdout",
          "text": [
            "4.03\n",
            "6\n",
            "https://tabelog.com/tw/okinawa/A4702/A470202/47022252/\n",
            "\n",
            "創新, 法式料理\n",
            "JPY 20,000～JPY 29,999\n",
            "JPY 10,000～JPY 14,999\n",
            "-\n",
            "------------------------------\n",
            "3.93\n",
            "BACAR\n",
            "https://tabelog.com/tw/okinawa/A4701/A470101/47003553/\n",
            "縣政府前車站\n",
            "披薩, 義大利料理\n",
            "JPY 15,000～JPY 19,999\n",
            "-\n",
            "星期一、星期日\n",
            "------------------------------\n",
            "3.78\n",
            "Shunsai Dokoro Biidoro\n",
            "https://tabelog.com/tw/okinawa/A4701/A470101/47002122/\n",
            "美榮橋車站\n",
            "日式小酒館, 沖繩料理, 創作料理\n",
            "JPY 3,000～JPY 3,999\n",
            "-\n",
            "星期一、星期日\n",
            "------------------------------\n",
            "3.77\n",
            "Grand Bleu Gamin\n",
            "https://tabelog.com/tw/okinawa/A4705/A470503/47025427/\n",
            "\n",
            "法式料理, 鐵板燒, 旅館/酒店\n",
            "JPY 15,000～JPY 19,999\n",
            "JPY 4,000～JPY 4,999\n",
            "-\n",
            "------------------------------\n",
            "3.75\n",
            "Niima Soba\n",
            "https://tabelog.com/tw/okinawa/A4705/A470503/47028426/\n",
            "\n",
            "沖繩麵\n",
            "～JPY 999\n",
            "～JPY 999\n",
            "星期四\n",
            "------------------------------\n",
            "3.75\n",
            "Shabushabu Kin Hon Ten\n",
            "https://tabelog.com/tw/okinawa/A4701/A470101/47023328/\n",
            "美榮橋車站\n",
            "豬肉涮涮鍋, 涮涮鍋, 沖繩料理\n",
            "JPY 6,000～JPY 7,999\n",
            "-\n",
            "-\n",
            "------------------------------\n",
            "3.75\n",
            "Okinawa Soba Marukami\n",
            "https://tabelog.com/tw/okinawa/A4705/A470503/47026984/\n",
            "\n",
            "沖繩麵, 食堂, 沖繩料理\n",
            "-\n",
            "～JPY 999\n",
            "星期日\n",
            "------------------------------\n",
            "3.73\n",
            "MEXICO\n",
            "https://tabelog.com/tw/okinawa/A4703/A470404/47000173/\n",
            "\n",
            "塔可\n",
            "～JPY 999\n",
            "～JPY 999\n",
            "星期二、星期三\n",
            "------------------------------\n",
            "3.73\n",
            "O's House\n",
            "https://tabelog.com/tw/okinawa/A4701/A470101/47001572/\n",
            "旭橋車站\n",
            "牛排\n",
            "JPY 10,000～JPY 14,999\n",
            "-\n",
            "星期日\n",
            "------------------------------\n",
            "3.72\n",
            "Matsumoto\n",
            "https://tabelog.com/tw/okinawa/A4701/A470101/47027108/\n",
            "縣政府前車站\n",
            "豬肉涮涮鍋, 沖繩料理, 日式小酒館\n",
            "JPY 6,000～JPY 7,999\n",
            "-\n",
            "-\n",
            "------------------------------\n",
            "3.72\n",
            "Captain Kangaroo\n",
            "https://tabelog.com/tw/okinawa/A4702/A470202/47027004/\n",
            "\n",
            "漢堡\n",
            "JPY 1,000～JPY 1,999\n",
            "JPY 1,000～JPY 1,999\n",
            "-\n",
            "------------------------------\n",
            "3.72\n",
            "Kise\n",
            "https://tabelog.com/tw/okinawa/A4702/A470201/47011807/\n",
            "\n",
            "鐵板燒, 牛排, 海鮮\n",
            "JPY 30,000～JPY 39,999\n",
            "JPY 3,000～JPY 3,999\n",
            "-\n",
            "------------------------------\n",
            "3.71\n",
            "La Tida\n",
            "https://tabelog.com/tw/okinawa/A4702/A470201/47000059/\n",
            "\n",
            "西式自助餐, 歐洲料理, 咖啡店\n",
            "JPY 5,000～JPY 5,999\n",
            "JPY 3,000～JPY 3,999\n",
            "-\n",
            "------------------------------\n",
            "3.71\n",
            "Akata Fuu\n",
            "https://tabelog.com/tw/okinawa/A4701/A470102/47000037/\n",
            "首里車站\n",
            "沖繩料理\n",
            "JPY 8,000～JPY 9,999\n",
            "-\n",
            "星期日\n",
            "------------------------------\n",
            "3.70\n",
            "Chinese Kajousai Yankyofan\n",
            "https://tabelog.com/tw/okinawa/A4701/A470101/47001716/\n",
            "旭橋車站\n",
            "中國菜, 四川料理\n",
            "JPY 3,000～JPY 3,999\n",
            "～JPY 999\n",
            "星期二\n",
            "------------------------------\n",
            "3.70\n",
            "Nanbu Soba\n",
            "https://tabelog.com/tw/okinawa/A4704/A470402/47002030/\n",
            "\n",
            "沖繩麵\n",
            "-\n",
            "～JPY 999\n",
            "星期日\n",
            "------------------------------\n",
            "3.70\n",
            "Toraichi Seiniku Ten\n",
            "https://tabelog.com/tw/okinawa/A4705/A470501/47027432/\n",
            "\n",
            "燒肉\n",
            "JPY 8,000～JPY 9,999\n",
            "JPY 1,000～JPY 1,999\n",
            "星期二、星期三\n",
            "------------------------------\n",
            "3.70\n",
            "Ralph's Burger Restaurant\n",
            "https://tabelog.com/tw/okinawa/A4703/A470301/47021518/\n",
            "\n",
            "漢堡\n",
            "-\n",
            "JPY 1,000～JPY 1,999\n",
            "星期四、星期五\n",
            "------------------------------\n",
            "3.70\n",
            "Mie\n",
            "https://tabelog.com/tw/okinawa/A4701/A470101/47002034/\n",
            "縣政府前車站\n",
            "沖繩料理\n",
            "JPY 10,000～JPY 14,999\n",
            "JPY 6,000～JPY 7,999\n",
            "星期日\n",
            "------------------------------\n",
            "3.69\n",
            "Shuri Soba\n",
            "https://tabelog.com/tw/okinawa/A4701/A470102/47000012/\n",
            "首里車站\n",
            "沖繩麵\n",
            "-\n",
            "～JPY 999\n",
            "星期四、星期日\n",
            "------------------------------\n"
          ]
        }
      ]
    },
    {
      "cell_type": "code",
      "source": [
        "# 字串的專屬功能: strip\n",
        "s = \"      a b c    \\t \\n  \"\n",
        "s.strip()"
      ],
      "metadata": {
        "colab": {
          "base_uri": "https://localhost:8080/",
          "height": 36
        },
        "id": "cIbb8YfU0UcI",
        "outputId": "8ed600d2-9427-47ba-ae7d-fa3df231c070"
      },
      "execution_count": 17,
      "outputs": [
        {
          "output_type": "execute_result",
          "data": {
            "text/plain": [
              "'a b c'"
            ],
            "application/vnd.google.colaboratory.intrinsic+json": {
              "type": "string"
            }
          },
          "metadata": {},
          "execution_count": 17
        }
      ]
    },
    {
      "cell_type": "code",
      "source": [
        "# 字串的專屬功能: split\n",
        "s = \"2025-04-26\"\n",
        "s.split(\"-\")"
      ],
      "metadata": {
        "colab": {
          "base_uri": "https://localhost:8080/"
        },
        "id": "2RFRmHF61IO5",
        "outputId": "7fbe06b0-edfd-407f-9046-5de58d240946"
      },
      "execution_count": 20,
      "outputs": [
        {
          "output_type": "execute_result",
          "data": {
            "text/plain": [
              "['2025', '04', '26']"
            ]
          },
          "metadata": {},
          "execution_count": 20
        }
      ]
    },
    {
      "cell_type": "code",
      "source": [
        "l = [20, 30]\n",
        "a, b = l\n",
        "print(a, b)"
      ],
      "metadata": {
        "colab": {
          "base_uri": "https://localhost:8080/"
        },
        "id": "AX619bok2Mf8",
        "outputId": "17c4fcda-8e7e-4793-bfee-085e772fba2d"
      },
      "execution_count": 22,
      "outputs": [
        {
          "output_type": "stream",
          "name": "stdout",
          "text": [
            "20 30\n"
          ]
        }
      ]
    }
  ]
}