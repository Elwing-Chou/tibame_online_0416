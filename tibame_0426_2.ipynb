{
  "nbformat": 4,
  "nbformat_minor": 0,
  "metadata": {
    "colab": {
      "provenance": [],
      "authorship_tag": "ABX9TyMzl4YXIfZ+eoSpiS22nuMQ",
      "include_colab_link": true
    },
    "kernelspec": {
      "name": "python3",
      "display_name": "Python 3"
    },
    "language_info": {
      "name": "python"
    }
  },
  "cells": [
    {
      "cell_type": "markdown",
      "metadata": {
        "id": "view-in-github",
        "colab_type": "text"
      },
      "source": [
        "<a href=\"https://colab.research.google.com/github/Elwing-Chou/tibame_online_0416/blob/main/tibame_0426_2.ipynb\" target=\"_parent\"><img src=\"https://colab.research.google.com/assets/colab-badge.svg\" alt=\"Open In Colab\"/></a>"
      ]
    },
    {
      "cell_type": "markdown",
      "source": [
        "\n",
        "\n",
        "```\n",
        "1. 打開原始碼(網址列的答案)\n",
        "2. 原始碼有: 網址列\n",
        "        無: F12去找到哪個隱藏網址\n",
        "```\n",
        "\n"
      ],
      "metadata": {
        "id": "qo9DHyx364Sd"
      }
    },
    {
      "cell_type": "markdown",
      "source": [
        "\n",
        "\n",
        "```\n",
        "HTML(網頁格式)\n",
        "\n",
        "<a href=\"網址\"> -> 開始\n",
        "    Ramen Feel\n",
        "</a> -> 結束\n",
        "\n",
        "1. 名字: 決定他是什麼\n",
        "a: 超連結 img: 圖片 video: 影片\n",
        "\n",
        "2. 屬性: 決定他的細節(名=\"值\")\n",
        "a href=\"網址\"\n",
        "img/video src=\"網址\"\n",
        "\n",
        "3. 顯示文字:\n",
        "\n",
        "```\n",
        "\n"
      ],
      "metadata": {
        "id": "3oSO06DY8oIj"
      }
    },
    {
      "cell_type": "markdown",
      "source": [
        "\n",
        "\n",
        "```\n",
        "網頁構成\n",
        "\n",
        "1. 前端\n",
        "    a. HTML: 網頁的內容\n",
        "    b. CSS: 網頁的排版(!!!!)\n",
        "    c. JavaScript: 網頁的動態\n",
        "\n",
        "2. 後端\n",
        "    a. 網址的處理\n",
        "    b. 資料庫的處理\n",
        "\n",
        "CSS排版: 找到HTML區塊, 加上排版\n",
        "\n",
        "1. 利用HTML名字\n",
        "a{\n",
        "    background-color:red\n",
        "}\n",
        "\n",
        "為了能夠區分我要的HTML區塊, 所以我會在區塊上加了一個特別排版的屬性\n",
        "2. 利用class屬性\n",
        "class=\"分類1 分類2 分類3\"\n",
        ".分類{\n",
        "}\n",
        "\n",
        "3. 利用id屬性\n",
        "id=\"值\"\n",
        "#id名{\n",
        "}\n",
        "\n",
        "\n",
        "```\n",
        "\n"
      ],
      "metadata": {
        "id": "dkmMRXX1Cnnp"
      }
    },
    {
      "cell_type": "code",
      "execution_count": 6,
      "metadata": {
        "colab": {
          "base_uri": "https://localhost:8080/"
        },
        "id": "kLnbXte65K5c",
        "outputId": "28c31199-94e4-4fb5-9922-db49354854d3"
      },
      "outputs": [
        {
          "output_type": "stream",
          "name": "stdout",
          "text": [
            "https://tabelog.com/tw/tokyo/A1330/A133003/13254631/\n",
            "Ramen FeeL\n"
          ]
        }
      ],
      "source": [
        "import urllib.request as req\n",
        "# BeautifulSoup4\n",
        "import bs4 as bs\n",
        "\n",
        "url = \"https://tabelog.com/tw/tokyo/rstLst/ramen/?SrtT=rt\"\n",
        "resp = req.urlopen(url)\n",
        "content = resp.read()\n",
        "\n",
        "# 上次適用json.loads把content(bytes)轉換成list/dict型態\n",
        "# 這次使用bs.BeautifulSoup來把contents轉換成bs裡的自訂型態(區塊型態)\n",
        "html = bs.BeautifulSoup(content)\n",
        "# print(html)\n",
        "\n",
        "# 區塊.find: 找到符合條件的第一個\n",
        "# 區塊.find_all: 找到所有符合條件的\n",
        "# 第一個參數: HTML名字\n",
        "# 第二個參數: 篩選條件(字典)\n",
        "target = html.find(\"a\", {\"class\":\"list-rst__rst-name-target\"})\n",
        "# 找到對象區塊\n",
        "# 1. 特殊屬性(字典): 區塊[屬姓名]\n",
        "# 2. 顯示內容(專屬值): 區塊.text\n",
        "# 程式哲學: 型態(人)可以擁有兩種東西 a. 專屬功能(吃飯()/睡覺()/喝水())  b. 專屬值(身高/體重)\n",
        "print(target[\"href\"])\n",
        "print(target.text)"
      ]
    }
  ]
}