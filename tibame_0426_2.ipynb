{
  "nbformat": 4,
  "nbformat_minor": 0,
  "metadata": {
    "colab": {
      "provenance": [],
      "authorship_tag": "ABX9TyPQ5U/RFIO39htAcmEhpgYG",
      "include_colab_link": true
    },
    "kernelspec": {
      "name": "python3",
      "display_name": "Python 3"
    },
    "language_info": {
      "name": "python"
    }
  },
  "cells": [
    {
      "cell_type": "markdown",
      "metadata": {
        "id": "view-in-github",
        "colab_type": "text"
      },
      "source": [
        "<a href=\"https://colab.research.google.com/github/Elwing-Chou/tibame_online_0416/blob/main/tibame_0426_2.ipynb\" target=\"_parent\"><img src=\"https://colab.research.google.com/assets/colab-badge.svg\" alt=\"Open In Colab\"/></a>"
      ]
    },
    {
      "cell_type": "markdown",
      "source": [
        "\n",
        "\n",
        "```\n",
        "1. 打開原始碼(網址列的答案)\n",
        "2. 原始碼有: 網址列\n",
        "        無: F12去找到哪個隱藏網址\n",
        "```\n",
        "\n"
      ],
      "metadata": {
        "id": "qo9DHyx364Sd"
      }
    },
    {
      "cell_type": "markdown",
      "source": [
        "\n",
        "\n",
        "```\n",
        "HTML(網頁格式)\n",
        "\n",
        "<a href=\"網址\"> -> 開始\n",
        "    Ramen Feel\n",
        "</a> -> 結束\n",
        "\n",
        "1. 名字: 決定他是什麼\n",
        "a: 超連結 img: 圖片 video: 影片\n",
        "\n",
        "2. 屬性: 決定他的細節(名=\"值\")\n",
        "a href=\"網址\"\n",
        "img/video src=\"網址\"\n",
        "\n",
        "3. 顯示文字:\n",
        "\n",
        "```\n",
        "\n"
      ],
      "metadata": {
        "id": "3oSO06DY8oIj"
      }
    },
    {
      "cell_type": "markdown",
      "source": [
        "\n",
        "\n",
        "```\n",
        "網頁構成\n",
        "\n",
        "1. 前端\n",
        "    a. HTML: 網頁的內容\n",
        "    b. CSS: 網頁的排版(!!!!)\n",
        "    c. JavaScript: 網頁的動態\n",
        "\n",
        "2. 後端\n",
        "    a. 網址的處理\n",
        "    b. 資料庫的處理\n",
        "\n",
        "CSS排版: 找到HTML區塊, 加上排版\n",
        "\n",
        "1. 利用HTML名字\n",
        "a{\n",
        "    background-color:red\n",
        "}\n",
        "\n",
        "為了能夠區分我要的HTML區塊, 所以我會在區塊上加了一個特別排版的屬性\n",
        "2. 利用class屬性\n",
        "class=\"分類1 分類2 分類3\"\n",
        ".分類{\n",
        "}\n",
        "\n",
        "3. 利用id屬性\n",
        "id=\"值\"\n",
        "#id名{\n",
        "}\n",
        "\n",
        "\n",
        "```\n",
        "\n"
      ],
      "metadata": {
        "id": "dkmMRXX1Cnnp"
      }
    },
    {
      "cell_type": "markdown",
      "source": [
        "快捷鍵\n",
        "Ctrl + \"/\": 多行註解"
      ],
      "metadata": {
        "id": "CJpqtGi6oTG_"
      }
    },
    {
      "cell_type": "code",
      "execution_count": 7,
      "metadata": {
        "colab": {
          "base_uri": "https://localhost:8080/"
        },
        "id": "kLnbXte65K5c",
        "outputId": "1788f506-30e1-4a37-a896-11578d7230c0"
      },
      "outputs": [
        {
          "output_type": "stream",
          "name": "stdout",
          "text": [
            "https://tabelog.com/tw/tokyo/A1330/A133003/13254631/\n",
            "Ramen FeeL\n",
            "Ramen FeeL\n"
          ]
        }
      ],
      "source": [
        "import urllib.request as req\n",
        "# BeautifulSoup4\n",
        "import bs4 as bs\n",
        "\n",
        "url = \"https://tabelog.com/tw/tokyo/rstLst/ramen/?SrtT=rt\"\n",
        "resp = req.urlopen(url)\n",
        "content = resp.read()\n",
        "\n",
        "# 上次適用json.loads把content(bytes)轉換成list/dict型態\n",
        "# 這次使用bs.BeautifulSoup來把contents轉換成bs裡的自訂型態(區塊型態)\n",
        "html = bs.BeautifulSoup(content)\n",
        "# print(html)\n",
        "\n",
        "# 區塊.find: 找到符合條件的第一個\n",
        "# 區塊.find_all: 找到所有符合條件的\n",
        "# 第一個參數: HTML名字\n",
        "# 第二個參數: 篩選條件(字典)\n",
        "# target = html.find(\"a\", {\"class\":\"list-rst__rst-name-target\"})\n",
        "# 找到對象區塊\n",
        "# 1. 特殊屬性(字典): 區塊[屬姓名]\n",
        "# 2. 顯示內容(專屬值): 區塊.text\n",
        "#            (專屬功能): 區塊.get_text()\n",
        "# 程式哲學: 型態(人)可以擁有兩種東西 a. 專屬功能(吃飯()/睡覺()/喝水())  b. 專屬值(身高/體重)\n",
        "# print(target[\"href\"])\n",
        "# print(target.text)\n",
        "# print(target.get_text())"
      ]
    },
    {
      "cell_type": "code",
      "source": [
        "import urllib.request as req\n",
        "import bs4 as bs\n",
        "\n",
        "url = \"https://tabelog.com/tw/tokyo/rstLst/ramen/?SrtT=rt\"\n",
        "resp = req.urlopen(url)\n",
        "content = resp.read()\n",
        "\n",
        "html = bs.BeautifulSoup(content)\n",
        "\n",
        "# 如果你用find_all: 找到的型態會是一個list\n",
        "rs = html.find_all(\"div\", {\"class\":\"list-rst__body\"})\n",
        "# list沒有所謂find_all, 區塊才有find/find_all\n",
        "for r in rs:\n",
        "    en = r.find(\"a\", {\"class\":\"list-rst__rst-name-target\"})\n",
        "    en_href = en[\"href\"]\n",
        "    en_text = en.text\n",
        "    print(en_text)\n",
        "    print(en_href)\n",
        "    print(\"-\" * 30)"
      ],
      "metadata": {
        "colab": {
          "base_uri": "https://localhost:8080/"
        },
        "id": "NLWpk-dZob9J",
        "outputId": "faa41abe-1a78-4fca-ba96-2e48731127e5"
      },
      "execution_count": 12,
      "outputs": [
        {
          "output_type": "stream",
          "name": "stdout",
          "text": [
            "Ramen FeeL\n",
            "https://tabelog.com/tw/tokyo/A1330/A133003/13254631/\n",
            "------------------------------\n",
            "Raa Menya Shima\n",
            "https://tabelog.com/tw/tokyo/A1304/A130401/13247487/\n",
            "------------------------------\n",
            "Homemade Ramen Muginawa\n",
            "https://tabelog.com/tw/tokyo/A1315/A131502/13194812/\n",
            "------------------------------\n",
            "Chuka Soba Shibata\n",
            "https://tabelog.com/tw/tokyo/A1326/A132603/13300645/\n",
            "------------------------------\n",
            "Shinjiko Shijimi Chuka Soba Kohaku Tokyo Honten\n",
            "https://tabelog.com/tw/tokyo/A1315/A131503/13234195/\n",
            "------------------------------\n",
            "Chuka Soba Kamofuku\n",
            "https://tabelog.com/tw/tokyo/A1329/A132904/13297180/\n",
            "------------------------------\n",
            "Japanese Ramen Gokan\n",
            "https://tabelog.com/tw/tokyo/A1305/A130501/13284009/\n",
            "------------------------------\n",
            "Medika Soba Kingyo\n",
            "https://tabelog.com/tw/tokyo/A1329/A132903/13272366/\n",
            "------------------------------\n",
            "Motenashi Kuroki\n",
            "https://tabelog.com/tw/tokyo/A1311/A131103/13290780/\n",
            "------------------------------\n",
            "Natsuya no Chuka Soba\n",
            "https://tabelog.com/tw/tokyo/A1317/A131716/13293385/\n",
            "------------------------------\n",
            "Iruka Tokyo\n",
            "https://tabelog.com/tw/tokyo/A1328/A132802/13234223/\n",
            "------------------------------\n",
            "Ramen Break Beats\n",
            "https://tabelog.com/tw/tokyo/A1317/A131701/13267329/\n",
            "------------------------------\n",
            "Chuka Soba Hirai\n",
            "https://tabelog.com/tw/tokyo/A1326/A132602/13259078/\n",
            "------------------------------\n",
            "SOBA-Shiro Kuro\n",
            "https://tabelog.com/tw/tokyo/A1318/A131809/13242508/\n",
            "------------------------------\n",
            "Tokyo Style Noodle Hotate Biyori\n",
            "https://tabelog.com/tw/tokyo/A1310/A131001/13280086/\n",
            "------------------------------\n",
            "Menya Kissou\n",
            "https://tabelog.com/tw/tokyo/A1313/A131303/13021140/\n",
            "------------------------------\n",
            "Iruka Tokyo Roppongi\n",
            "https://tabelog.com/tw/tokyo/A1307/A130701/13264260/\n",
            "------------------------------\n",
            "Tantan\n",
            "https://tabelog.com/tw/tokyo/A1329/A132904/13046007/\n",
            "------------------------------\n",
            "Sakurajosui Funakoshi\n",
            "https://tabelog.com/tw/tokyo/A1318/A131809/13281101/\n",
            "------------------------------\n",
            "Chuka Soba Tagano\n",
            "https://tabelog.com/tw/tokyo/A1317/A131712/13003421/\n",
            "------------------------------\n"
          ]
        }
      ]
    }
  ]
}