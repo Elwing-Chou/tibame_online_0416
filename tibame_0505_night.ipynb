{
  "nbformat": 4,
  "nbformat_minor": 0,
  "metadata": {
    "colab": {
      "provenance": [],
      "authorship_tag": "ABX9TyO8S17jKGT1yiqCA5+0pJar",
      "include_colab_link": true
    },
    "kernelspec": {
      "name": "python3",
      "display_name": "Python 3"
    },
    "language_info": {
      "name": "python"
    }
  },
  "cells": [
    {
      "cell_type": "markdown",
      "metadata": {
        "id": "view-in-github",
        "colab_type": "text"
      },
      "source": [
        "<a href=\"https://colab.research.google.com/github/Elwing-Chou/tibame_online_0416/blob/main/tibame_0505_night.ipynb\" target=\"_parent\"><img src=\"https://colab.research.google.com/assets/colab-badge.svg\" alt=\"Open In Colab\"/></a>"
      ]
    },
    {
      "cell_type": "code",
      "execution_count": null,
      "metadata": {
        "id": "XXOt3b4gInNu"
      },
      "outputs": [],
      "source": [
        "import os\n",
        "import time\n",
        "import urllib.request as req\n",
        "\n",
        "\n",
        "from selenium import webdriver\n",
        "from selenium.webdriver.common.by import By\n",
        "from selenium.webdriver.common.keys import Keys\n",
        "\n",
        "import undetected_chromedriver as uc\n",
        "\n",
        "\n",
        "# 如果你是MAC, 遇到SSL Certificate Failed: 就加這兩行\n",
        "import ssl\n",
        "ssl._create_default_https_context = ssl._create_unverified_context\n",
        "\n",
        "# 你要把你所有的平常動作模擬在這裡\n",
        "if __name__ == '__main__':\n",
        "    driver = uc.Chrome(use_subprocess=False)\n",
        "    driver.get(\"https://www.google.com\")\n",
        "    driver.maximize_window()\n",
        "    # bs: find/find_all\n",
        "    # selenium: find_element/find_elements\n",
        "    # 篩選條件: By.TAG_NAME By.CLASS_NAME By.ID\n",
        "    e = driver.find_element(By.CLASS_NAME, \"gLFyf\")\n",
        "    # 點擊: click()  鍵盤輸入: send_keys(\"aaa\")\n",
        "    e.send_keys(\"chiikawa\")\n",
        "    e.send_keys(Keys.ENTER)\n",
        "    time.sleep(1)\n",
        "    e = driver.find_elements(By.CLASS_NAME, \"nPDzT\")[1]\n",
        "    e.click()\n",
        "    # bs: [\"href\"]/.text\n",
        "    # selenium: get_attribute(\"href\")/.text\n",
        "    es = driver.find_elements(By.CLASS_NAME, \"YQ4gaf\")\n",
        "    for e in es:\n",
        "        e_src = e.get_attribute(\"src\")\n",
        "        # print(e_src)\n",
        "        dn = \"google\"\n",
        "        if not os.path.exists(dn):\n",
        "            os.makedirs(dn)\n",
        "        fn = dn + \"/\" + str(time.time()) + \".png\"\n",
        "        req.urlretrieve(e_src, fn)\n",
        "    time.sleep(10)"
      ]
    },
    {
      "cell_type": "markdown",
      "source": [
        "\n",
        "\n",
        "```\n",
        "import os\n",
        "if not os.path.exists(\"資料夾\"):\n",
        "    os.makedirs(\"資料夾\")\n",
        "\n",
        "os.py -> 讓外面的人都是用path, 裡面自動分\n",
        "1. posixpath as path\n",
        "2. ntpath as path\n",
        "-> genericpath.py(對於linux/windows系統, exists是同樣的)\n",
        "\n",
        "```\n",
        "\n",
        "\n"
      ],
      "metadata": {
        "id": "g2F8dq4qIpzI"
      }
    },
    {
      "cell_type": "code",
      "source": [
        "import time\n",
        "time.time()"
      ],
      "metadata": {
        "colab": {
          "base_uri": "https://localhost:8080/"
        },
        "id": "qYlx3M0eSp5y",
        "outputId": "e2ba9f78-f255-45c7-9c50-3aca429ee344"
      },
      "execution_count": 1,
      "outputs": [
        {
          "output_type": "execute_result",
          "data": {
            "text/plain": [
              "1746445983.042172"
            ]
          },
          "metadata": {},
          "execution_count": 1
        }
      ]
    },
    {
      "cell_type": "markdown",
      "source": [
        "\n",
        "\n",
        "```\n",
        "Headers裡面有一個特殊欄位叫做Cookie\n",
        "\n",
        "Cookie: 你的瀏覽器儲存了一些特殊的直, 在你下次拜訪同樣網頁的時候, 就會被自動送出\n",
        "\n",
        "什麼時候Cookie搞鬼: 你發覺同一個網址, 第一次和第二次得到不一樣的結果(e.g. 自動登入)\n",
        "\n",
        "自動登入:\n",
        "\n",
        "1. 在你第一次登入的時候, fb在回覆你的時候, response-headers裡會有一個特殊欄位(Set-Cookie), 就會把這些值(Cookie)儲存到瀏覽器裡\n",
        "\n",
        "2. 第二次的時候, 你送出網址的時候, 這個時候就會自動把儲存的Cookie帶入, 人家就知道你登入過了\n",
        "\n",
        "```\n",
        "\n"
      ],
      "metadata": {
        "id": "7r4apmB-aYSr"
      }
    },
    {
      "cell_type": "code",
      "source": [
        "import os\n",
        "import time\n",
        "import urllib.request as req\n",
        "\n",
        "\n",
        "from selenium import webdriver\n",
        "from selenium.webdriver.common.by import By\n",
        "from selenium.webdriver.common.keys import Keys\n",
        "\n",
        "import undetected_chromedriver as uc\n",
        "\n",
        "\n",
        "# 如果你是MAC, 遇到SSL Certificate Failed: 就加這兩行\n",
        "import ssl\n",
        "ssl._create_default_https_context = ssl._create_unverified_context\n",
        "\n",
        "# 你要把你所有的平常動作模擬在這裡\n",
        "if __name__ == '__main__':\n",
        "    driver = uc.Chrome(use_subprocess=False)\n",
        "    driver.get(\"https://www.facebook.com\")\n",
        "    driver.maximize_window()\n",
        "    cookie =\"\"\n",
        "    for spl in cookie.split(\";\"):\n",
        "        k, v = spl.split(\"=\", 1)\n",
        "        k, v = k.strip(), v.strip()\n",
        "        driver.add_cookie({\"name\": k, \"value\": v})\n",
        "    driver.get(\"https://www.facebook.com\")\n",
        "\n",
        "    time.sleep(5)"
      ],
      "metadata": {
        "id": "kbP4RKiUdi6Q"
      },
      "execution_count": null,
      "outputs": []
    },
    {
      "cell_type": "code",
      "source": [
        "from fastapi import FastAPI\n",
        "\n",
        "app = FastAPI() # 建立一個 Fast API application\n",
        "\n",
        "@app.get(\"/\") # 指定 api 路徑 (get方法)\n",
        "def read_root():\n",
        "    return {\"test\": 3}"
      ],
      "metadata": {
        "id": "AisnUv5bifDK"
      },
      "execution_count": null,
      "outputs": []
    },
    {
      "cell_type": "code",
      "source": [],
      "metadata": {
        "id": "iV8pQQzXjZBE"
      },
      "execution_count": null,
      "outputs": []
    },
    {
      "cell_type": "markdown",
      "source": [
        "\n",
        "\n",
        "```\n",
        "1. pip install fastapi/uvicorn\n",
        "\n",
        "uvicorn .py名字:app --reload\n",
        "```\n",
        "\n"
      ],
      "metadata": {
        "id": "TLP-Xe_xjZ7a"
      }
    },
    {
      "cell_type": "code",
      "source": [
        "import urllib.request as req\n",
        "import pandas as pd\n",
        "from fastapi import FastAPI\n",
        "\n",
        "url = \"https://github.com/Elwing-Chou/tibame_online_0416/raw/refs/heads/main/tabelog%20(3).csv\"\n",
        "req.urlretrieve(url,\"tabelog.csv\")\n",
        "df = pd.read_csv(\"tabelog.csv\", encoding=\"utf-8\", index_col=0)\n",
        "app = FastAPI() # 建立一個 Fast API application\n",
        "\n",
        "@app.get(\"/\") # 指定 api 路徑 (get方法)\n",
        "def read_root():\n",
        "    return {\"test\": 3}\n",
        "\n",
        "@app.get(\"/tibame\")\n",
        "def read_tibame():\n",
        "    return {\"tibame\": 5}\n",
        "\n",
        "# 第一種帶入參數\n",
        "@app.get(\"/tibame/{user_name}\")\n",
        "def read_tibame2(user_name:str):\n",
        "    return {\"tibame\": user_name}\n",
        "\n",
        "# 第二種 ?age=30\n",
        "@app.get(\"/python/{user_name}\")\n",
        "def read_python(user_name:str, age:int=20):\n",
        "    return {\"name\":user_name, \"age\":age}\n",
        "\n",
        "@app.get(\"/tabelog\")\n",
        "def query_tabelog(score:float=3.5):\n",
        "    fil = df[\"評分\"] >= score\n",
        "    return df[fil].to_json(orient=\"records\", force_ascii=False, indent=4)"
      ],
      "metadata": {
        "id": "IksJO3h3p8FU"
      },
      "execution_count": null,
      "outputs": []
    },
    {
      "cell_type": "code",
      "source": [
        "import urllib.request as req\n",
        "import json\n",
        "import pandas as pd\n",
        "url = \"https://43b3-2001-b011-1-1bb9-4f25-9b35-3daf-a6ad.ngrok-free.app/tabelog?score=3.8\"\n",
        "resp = req.urlopen(url)\n",
        "content = resp.read()\n",
        "print(json.loads(content))"
      ],
      "metadata": {
        "colab": {
          "base_uri": "https://localhost:8080/"
        },
        "id": "iCw48UTOreNJ",
        "outputId": "d13c9fd9-0b0d-4ae9-f1c3-0c85487164c2"
      },
      "execution_count": 6,
      "outputs": [
        {
          "output_type": "stream",
          "name": "stdout",
          "text": [
            "[\n",
            "    {\n",
            "        \"評分\":4.03,\n",
            "        \"店名\":\"6\",\n",
            "        \"連結\":\"https:\\/\\/tabelog.com\\/tw\\/okinawa\\/A4702\\/A470202\\/47022252\\/\",\n",
            "        \"地點\":null,\n",
            "        \"類型\":\"創新, 法式料理\",\n",
            "        \"晚餐價格\":\"JPY 20,000～JPY 29,999\",\n",
            "        \"午餐價格\":\"JPY 10,000～JPY 14,999\",\n",
            "        \"休息日\":\"-\"\n",
            "    },\n",
            "    {\n",
            "        \"評分\":3.93,\n",
            "        \"店名\":\"BACAR\",\n",
            "        \"連結\":\"https:\\/\\/tabelog.com\\/tw\\/okinawa\\/A4701\\/A470101\\/47003553\\/\",\n",
            "        \"地點\":\"縣政府前車站\",\n",
            "        \"類型\":\"披薩, 義大利料理\",\n",
            "        \"晚餐價格\":\"JPY 15,000～JPY 19,999\",\n",
            "        \"午餐價格\":\"-\",\n",
            "        \"休息日\":\"星期一、星期日\"\n",
            "    }\n",
            "]\n"
          ]
        }
      ]
    }
  ]
}