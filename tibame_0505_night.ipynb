{
  "nbformat": 4,
  "nbformat_minor": 0,
  "metadata": {
    "colab": {
      "provenance": [],
      "authorship_tag": "ABX9TyNyoyBYDFUOpA7ta3XBlmrv",
      "include_colab_link": true
    },
    "kernelspec": {
      "name": "python3",
      "display_name": "Python 3"
    },
    "language_info": {
      "name": "python"
    }
  },
  "cells": [
    {
      "cell_type": "markdown",
      "metadata": {
        "id": "view-in-github",
        "colab_type": "text"
      },
      "source": [
        "<a href=\"https://colab.research.google.com/github/Elwing-Chou/tibame_online_0416/blob/main/tibame_0505_night.ipynb\" target=\"_parent\"><img src=\"https://colab.research.google.com/assets/colab-badge.svg\" alt=\"Open In Colab\"/></a>"
      ]
    },
    {
      "cell_type": "code",
      "execution_count": null,
      "metadata": {
        "id": "XXOt3b4gInNu"
      },
      "outputs": [],
      "source": [
        "import os\n",
        "import time\n",
        "import urllib.request as req\n",
        "\n",
        "\n",
        "from selenium import webdriver\n",
        "from selenium.webdriver.common.by import By\n",
        "from selenium.webdriver.common.keys import Keys\n",
        "\n",
        "import undetected_chromedriver as uc\n",
        "\n",
        "\n",
        "# 如果你是MAC, 遇到SSL Certificate Failed: 就加這兩行\n",
        "import ssl\n",
        "ssl._create_default_https_context = ssl._create_unverified_context\n",
        "\n",
        "# 你要把你所有的平常動作模擬在這裡\n",
        "if __name__ == '__main__':\n",
        "    driver = uc.Chrome(use_subprocess=False)\n",
        "    driver.get(\"https://www.google.com\")\n",
        "    driver.maximize_window()\n",
        "    # bs: find/find_all\n",
        "    # selenium: find_element/find_elements\n",
        "    # 篩選條件: By.TAG_NAME By.CLASS_NAME By.ID\n",
        "    e = driver.find_element(By.CLASS_NAME, \"gLFyf\")\n",
        "    # 點擊: click()  鍵盤輸入: send_keys(\"aaa\")\n",
        "    e.send_keys(\"chiikawa\")\n",
        "    e.send_keys(Keys.ENTER)\n",
        "    time.sleep(1)\n",
        "    e = driver.find_elements(By.CLASS_NAME, \"nPDzT\")[1]\n",
        "    e.click()\n",
        "    # bs: [\"href\"]/.text\n",
        "    # selenium: get_attribute(\"href\")/.text\n",
        "    es = driver.find_elements(By.CLASS_NAME, \"YQ4gaf\")\n",
        "    for e in es:\n",
        "        e_src = e.get_attribute(\"src\")\n",
        "        # print(e_src)\n",
        "        dn = \"google\"\n",
        "        if not os.path.exists(dn):\n",
        "            os.makedirs(dn)\n",
        "        fn = dn + \"/\" + str(time.time()) + \".png\"\n",
        "        req.urlretrieve(e_src, fn)\n",
        "    time.sleep(10)"
      ]
    },
    {
      "cell_type": "markdown",
      "source": [
        "\n",
        "\n",
        "```\n",
        "import os\n",
        "if not os.path.exists(\"資料夾\"):\n",
        "    os.makedirs(\"資料夾\")\n",
        "\n",
        "os.py -> 讓外面的人都是用path, 裡面自動分\n",
        "1. posixpath as path\n",
        "2. ntpath as path\n",
        "-> genericpath.py(對於linux/windows系統, exists是同樣的)\n",
        "\n",
        "```\n",
        "\n",
        "\n"
      ],
      "metadata": {
        "id": "g2F8dq4qIpzI"
      }
    },
    {
      "cell_type": "code",
      "source": [
        "import time\n",
        "time.time()"
      ],
      "metadata": {
        "colab": {
          "base_uri": "https://localhost:8080/"
        },
        "id": "qYlx3M0eSp5y",
        "outputId": "e2ba9f78-f255-45c7-9c50-3aca429ee344"
      },
      "execution_count": 1,
      "outputs": [
        {
          "output_type": "execute_result",
          "data": {
            "text/plain": [
              "1746445983.042172"
            ]
          },
          "metadata": {},
          "execution_count": 1
        }
      ]
    }
  ]
}