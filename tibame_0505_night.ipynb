{
  "nbformat": 4,
  "nbformat_minor": 0,
  "metadata": {
    "colab": {
      "provenance": [],
      "authorship_tag": "ABX9TyNoxyovAeSQ+kDxXq4dRhaZ",
      "include_colab_link": true
    },
    "kernelspec": {
      "name": "python3",
      "display_name": "Python 3"
    },
    "language_info": {
      "name": "python"
    }
  },
  "cells": [
    {
      "cell_type": "markdown",
      "metadata": {
        "id": "view-in-github",
        "colab_type": "text"
      },
      "source": [
        "<a href=\"https://colab.research.google.com/github/Elwing-Chou/tibame_online_0416/blob/main/tibame_0505_night.ipynb\" target=\"_parent\"><img src=\"https://colab.research.google.com/assets/colab-badge.svg\" alt=\"Open In Colab\"/></a>"
      ]
    },
    {
      "cell_type": "code",
      "execution_count": null,
      "metadata": {
        "id": "XXOt3b4gInNu"
      },
      "outputs": [],
      "source": [
        "import os\n",
        "import time\n",
        "import urllib.request as req\n",
        "\n",
        "\n",
        "from selenium import webdriver\n",
        "from selenium.webdriver.common.by import By\n",
        "from selenium.webdriver.common.keys import Keys\n",
        "\n",
        "import undetected_chromedriver as uc\n",
        "\n",
        "\n",
        "# 如果你是MAC, 遇到SSL Certificate Failed: 就加這兩行\n",
        "import ssl\n",
        "ssl._create_default_https_context = ssl._create_unverified_context\n",
        "\n",
        "# 你要把你所有的平常動作模擬在這裡\n",
        "if __name__ == '__main__':\n",
        "    driver = uc.Chrome(use_subprocess=False)\n",
        "    driver.get(\"https://www.google.com\")\n",
        "    driver.maximize_window()\n",
        "    # bs: find/find_all\n",
        "    # selenium: find_element/find_elements\n",
        "    # 篩選條件: By.TAG_NAME By.CLASS_NAME By.ID\n",
        "    e = driver.find_element(By.CLASS_NAME, \"gLFyf\")\n",
        "    # 點擊: click()  鍵盤輸入: send_keys(\"aaa\")\n",
        "    e.send_keys(\"chiikawa\")\n",
        "    e.send_keys(Keys.ENTER)\n",
        "    time.sleep(1)\n",
        "    e = driver.find_elements(By.CLASS_NAME, \"nPDzT\")[1]\n",
        "    e.click()\n",
        "    # bs: [\"href\"]/.text\n",
        "    # selenium: get_attribute(\"href\")/.text\n",
        "    es = driver.find_elements(By.CLASS_NAME, \"YQ4gaf\")\n",
        "    for e in es:\n",
        "        e_src = e.get_attribute(\"src\")\n",
        "        # print(e_src)\n",
        "        dn = \"google\"\n",
        "        if not os.path.exists(dn):\n",
        "            os.makedirs(dn)\n",
        "        fn = dn + \"/\" + str(time.time()) + \".png\"\n",
        "        req.urlretrieve(e_src, fn)\n",
        "    time.sleep(10)"
      ]
    },
    {
      "cell_type": "markdown",
      "source": [
        "\n",
        "\n",
        "```\n",
        "import os\n",
        "if not os.path.exists(\"資料夾\"):\n",
        "    os.makedirs(\"資料夾\")\n",
        "\n",
        "os.py -> 讓外面的人都是用path, 裡面自動分\n",
        "1. posixpath as path\n",
        "2. ntpath as path\n",
        "-> genericpath.py(對於linux/windows系統, exists是同樣的)\n",
        "\n",
        "```\n",
        "\n",
        "\n"
      ],
      "metadata": {
        "id": "g2F8dq4qIpzI"
      }
    },
    {
      "cell_type": "code",
      "source": [
        "import time\n",
        "time.time()"
      ],
      "metadata": {
        "colab": {
          "base_uri": "https://localhost:8080/"
        },
        "id": "qYlx3M0eSp5y",
        "outputId": "e2ba9f78-f255-45c7-9c50-3aca429ee344"
      },
      "execution_count": 1,
      "outputs": [
        {
          "output_type": "execute_result",
          "data": {
            "text/plain": [
              "1746445983.042172"
            ]
          },
          "metadata": {},
          "execution_count": 1
        }
      ]
    },
    {
      "cell_type": "markdown",
      "source": [
        "\n",
        "\n",
        "```\n",
        "Headers裡面有一個特殊欄位叫做Cookie\n",
        "\n",
        "Cookie: 你的瀏覽器儲存了一些特殊的直, 在你下次拜訪同樣網頁的時候, 就會被自動送出\n",
        "\n",
        "什麼時候Cookie搞鬼: 你發覺同一個網址, 第一次和第二次得到不一樣的結果(e.g. 自動登入)\n",
        "\n",
        "自動登入:\n",
        "\n",
        "1. 在你第一次登入的時候, fb在回覆你的時候, response-headers裡會有一個特殊欄位(Set-Cookie), 就會把這些值(Cookie)儲存到瀏覽器裡\n",
        "\n",
        "2. 第二次的時候, 你送出網址的時候, 這個時候就會自動把儲存的Cookie帶入, 人家就知道你登入過了\n",
        "\n",
        "```\n",
        "\n"
      ],
      "metadata": {
        "id": "7r4apmB-aYSr"
      }
    },
    {
      "cell_type": "code",
      "source": [
        "import os\n",
        "import time\n",
        "import urllib.request as req\n",
        "\n",
        "\n",
        "from selenium import webdriver\n",
        "from selenium.webdriver.common.by import By\n",
        "from selenium.webdriver.common.keys import Keys\n",
        "\n",
        "import undetected_chromedriver as uc\n",
        "\n",
        "\n",
        "# 如果你是MAC, 遇到SSL Certificate Failed: 就加這兩行\n",
        "import ssl\n",
        "ssl._create_default_https_context = ssl._create_unverified_context\n",
        "\n",
        "# 你要把你所有的平常動作模擬在這裡\n",
        "if __name__ == '__main__':\n",
        "    driver = uc.Chrome(use_subprocess=False)\n",
        "    driver.get(\"https://www.facebook.com\")\n",
        "    driver.maximize_window()\n",
        "    cookie =\"\"\n",
        "    for spl in cookie.split(\";\"):\n",
        "        k, v = spl.split(\"=\", 1)\n",
        "        k, v = k.strip(), v.strip()\n",
        "        driver.add_cookie({\"name\": k, \"value\": v})\n",
        "    driver.get(\"https://www.facebook.com\")\n",
        "\n",
        "    time.sleep(5)"
      ],
      "metadata": {
        "id": "kbP4RKiUdi6Q"
      },
      "execution_count": null,
      "outputs": []
    }
  ]
}