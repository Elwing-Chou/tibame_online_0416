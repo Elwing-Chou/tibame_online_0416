{
  "nbformat": 4,
  "nbformat_minor": 0,
  "metadata": {
    "colab": {
      "provenance": [],
      "authorship_tag": "ABX9TyODr4LeIlpZ2wKQQy2XzCpX",
      "include_colab_link": true
    },
    "kernelspec": {
      "name": "python3",
      "display_name": "Python 3"
    },
    "language_info": {
      "name": "python"
    }
  },
  "cells": [
    {
      "cell_type": "markdown",
      "metadata": {
        "id": "view-in-github",
        "colab_type": "text"
      },
      "source": [
        "<a href=\"https://colab.research.google.com/github/Elwing-Chou/tibame_online_0416/blob/main/tibame_0416.ipynb\" target=\"_parent\"><img src=\"https://colab.research.google.com/assets/colab-badge.svg\" alt=\"Open In Colab\"/></a>"
      ]
    },
    {
      "cell_type": "markdown",
      "source": [
        "\n",
        "\n",
        "```\n",
        "1. repl.it: 完整.py, 第一行直行到最後一行\n",
        "2. colab: 使用的是python的一個函式庫jupyter, 它可以讓你寫一段執行一段, 這個時候附檔名通常會是.ipynb\n",
        "```\n",
        "\n"
      ],
      "metadata": {
        "id": "zC0BWuWJVKlI"
      }
    },
    {
      "cell_type": "code",
      "execution_count": null,
      "metadata": {
        "id": "EF_QodiuTAPC"
      },
      "outputs": [],
      "source": [
        "# 迴圈: 次數<後面, i=0...9\n",
        "i = 0\n",
        "while i < 10:\n",
        "    n = 20 - 2 * i\n",
        "    print(n)\n",
        "    i = i + 1"
      ]
    },
    {
      "cell_type": "code",
      "source": [
        "# list型態:\n",
        "a = [90, 20, 30]\n",
        "print(a[2])\n",
        "# 拿了做事再設定回去\n",
        "# b = 10\n",
        "# b = b + 2\n",
        "a[0] = 180\n",
        "print(a)\n",
        "a[0] = a[0] + 50\n",
        "print(a)"
      ],
      "metadata": {
        "colab": {
          "base_uri": "https://localhost:8080/"
        },
        "id": "Y5677PooYMb5",
        "outputId": "d05c0d86-157f-42c6-be7e-2f0e75cb6494"
      },
      "execution_count": 7,
      "outputs": [
        {
          "output_type": "stream",
          "name": "stdout",
          "text": [
            "30\n",
            "[180, 20, 30]\n",
            "[230, 20, 30]\n"
          ]
        }
      ]
    },
    {
      "cell_type": "code",
      "source": [
        "# 雙層迴圈\n",
        "# 你一定要先固定一個東西\n",
        "# 九九乘法 n1 * n2 = ?\n",
        "# 我先固定 n1\n",
        "# 之前叫你名字用i, 如果是第二層用j\n",
        "i = 0\n",
        "while i < 9:\n",
        "    n1 = i + 1\n",
        "    # 針對這n1做九次\n",
        "    j = 0\n",
        "    while j < 9:\n",
        "        n2 = j + 1\n",
        "        result = n1 * n2\n",
        "        print(n1, \"*\", n2, \"=\", result)\n",
        "        j = j + 1\n",
        "    i = i + 1"
      ],
      "metadata": {
        "id": "av1FlY8xZpWG"
      },
      "execution_count": null,
      "outputs": []
    },
    {
      "cell_type": "code",
      "source": [
        "# 參考: 如果是for...in版本\n",
        "for i in range(9):\n",
        "    n1 = i + 1\n",
        "    for j in range(9):\n",
        "        n2 = j + 1\n",
        "        result = n1 * n2\n",
        "        print(n1, \"*\", n2, \"=\", result)"
      ],
      "metadata": {
        "id": "ugXEwX5FbKzs"
      },
      "execution_count": null,
      "outputs": []
    },
    {
      "cell_type": "code",
      "source": [
        "# 二維list以及拿東西的座號\n",
        "game = [\n",
        "    [0.1, 0.2, 0.3],\n",
        "    [1.1, 1.2, 1.3],\n",
        "    [2.1, 2.2, 2.3]\n",
        "]\n",
        "game[1][2]\n",
        "game[0][1]"
      ],
      "metadata": {
        "colab": {
          "base_uri": "https://localhost:8080/"
        },
        "id": "gs-owLupgyfu",
        "outputId": "5b9bbd35-b4f7-4e5b-a5cb-dfadbe2187b0"
      },
      "execution_count": 15,
      "outputs": [
        {
          "output_type": "execute_result",
          "data": {
            "text/plain": [
              "0.2"
            ]
          },
          "metadata": {},
          "execution_count": 15
        }
      ]
    }
  ]
}