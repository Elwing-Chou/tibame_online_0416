{
  "nbformat": 4,
  "nbformat_minor": 0,
  "metadata": {
    "colab": {
      "provenance": [],
      "authorship_tag": "ABX9TyOTMxYz99WzqHQxTw5JNuIb",
      "include_colab_link": true
    },
    "kernelspec": {
      "name": "python3",
      "display_name": "Python 3"
    },
    "language_info": {
      "name": "python"
    }
  },
  "cells": [
    {
      "cell_type": "markdown",
      "metadata": {
        "id": "view-in-github",
        "colab_type": "text"
      },
      "source": [
        "<a href=\"https://colab.research.google.com/github/Elwing-Chou/tibame_online_0416/blob/main/tibame_0416.ipynb\" target=\"_parent\"><img src=\"https://colab.research.google.com/assets/colab-badge.svg\" alt=\"Open In Colab\"/></a>"
      ]
    },
    {
      "cell_type": "markdown",
      "source": [
        "\n",
        "\n",
        "```\n",
        "1. repl.it: 完整.py, 第一行直行到最後一行\n",
        "2. colab: 使用的是python的一個函式庫jupyter, 它可以讓你寫一段執行一段, 這個時候附檔名通常會是.ipynb\n",
        "```\n",
        "\n"
      ],
      "metadata": {
        "id": "zC0BWuWJVKlI"
      }
    },
    {
      "cell_type": "code",
      "execution_count": null,
      "metadata": {
        "id": "EF_QodiuTAPC"
      },
      "outputs": [],
      "source": [
        "# 迴圈: 次數<後面, i=0...9\n",
        "i = 0\n",
        "while i < 10:\n",
        "    n = 20 - 2 * i\n",
        "    print(n)\n",
        "    i = i + 1"
      ]
    },
    {
      "cell_type": "code",
      "source": [
        "# list型態:\n",
        "a = [90, 20, 30]\n",
        "print(a[2])\n",
        "# 拿了做事再設定回去\n",
        "# b = 10\n",
        "# b = b + 2\n",
        "a[0] = 180\n",
        "print(a)\n",
        "a[0] = a[0] + 50\n",
        "print(a)"
      ],
      "metadata": {
        "colab": {
          "base_uri": "https://localhost:8080/"
        },
        "id": "Y5677PooYMb5",
        "outputId": "d05c0d86-157f-42c6-be7e-2f0e75cb6494"
      },
      "execution_count": 7,
      "outputs": [
        {
          "output_type": "stream",
          "name": "stdout",
          "text": [
            "30\n",
            "[180, 20, 30]\n",
            "[230, 20, 30]\n"
          ]
        }
      ]
    },
    {
      "cell_type": "code",
      "source": [
        "# 雙層迴圈\n",
        "# 你一定要先固定一個東西\n",
        "# 九九乘法 n1 * n2 = ?\n",
        "# 我先固定 n1\n",
        "# 之前叫你名字用i, 如果是第二層用j\n",
        "i = 0\n",
        "while i < 9:\n",
        "    n1 = i + 1\n",
        "    # 針對這n1做九次\n",
        "    j = 0\n",
        "    while j < 9:\n",
        "        n2 = j + 1\n",
        "        result = n1 * n2\n",
        "        print(n1, \"*\", n2, \"=\", result)\n",
        "        j = j + 1\n",
        "    i = i + 1"
      ],
      "metadata": {
        "id": "av1FlY8xZpWG"
      },
      "execution_count": null,
      "outputs": []
    },
    {
      "cell_type": "code",
      "source": [
        "# 參考: 如果是for...in版本\n",
        "for i in range(9):\n",
        "    n1 = i + 1\n",
        "    for j in range(9):\n",
        "        n2 = j + 1\n",
        "        result = n1 * n2\n",
        "        print(n1, \"*\", n2, \"=\", result)"
      ],
      "metadata": {
        "id": "ugXEwX5FbKzs"
      },
      "execution_count": null,
      "outputs": []
    },
    {
      "cell_type": "code",
      "source": [
        "# 二維list以及拿東西的座號\n",
        "game = [\n",
        "    [0.1, 0.2, 0.3],\n",
        "    [1.1, 1.2, 1.3],\n",
        "    [2.1, 2.2, 2.3]\n",
        "]\n",
        "print(game[1][2])\n",
        "print(game[0][1])"
      ],
      "metadata": {
        "colab": {
          "base_uri": "https://localhost:8080/"
        },
        "id": "gs-owLupgyfu",
        "outputId": "a7bc318a-4a4b-478d-9b9a-c0049c6cc09c"
      },
      "execution_count": 16,
      "outputs": [
        {
          "output_type": "stream",
          "name": "stdout",
          "text": [
            "1.3\n",
            "0.2\n"
          ]
        }
      ]
    },
    {
      "cell_type": "markdown",
      "source": [
        "\n",
        "\n",
        "```\n",
        "OOXX\n",
        "把問題簡化\n",
        "1. 輪流選擇位置(最後做)\n",
        "2. 確認當你下了這個位置以後, 你有沒有贏(橫, 直, 斜*2)\n",
        "```\n",
        "\n"
      ],
      "metadata": {
        "id": "7KLsKEtyiY28"
      }
    },
    {
      "cell_type": "code",
      "source": [
        "# # 還未被選擇: -1\n",
        "# # 被選擇為0: O\n",
        "# # 被選擇為1: X\n",
        "# # 橫的叫row, 直的叫col\n",
        "# board = [\n",
        "#     [ 0,  0,  0],\n",
        "#     [-1, -1, -1],\n",
        "#     [-1, -1, -1]\n",
        "# ]\n",
        "\n",
        "# # 我有兩種想法\n",
        "# # 1. 她下的時候, 我從她下的位置去決定這步會不會有連線出線\n",
        "# # 2. 我直接檢查整個圖片, 看看有沒有連線發生(o)\n",
        "# row = 0\n",
        "# # 我先把這一列的第一個拿出來, 三個(兩個)東西都要跟這個第一個一樣\n",
        "# target = board[row][0]\n",
        "# # 我準備一個值, 我先假設他是連成一條線的, 如果她不是, 我就馬上把這個值設定成False, 結束\n",
        "# line = True\n",
        "# j = 0\n",
        "# while j < 3:\n",
        "#     col = j\n",
        "#     if not board[row][col] == target:\n",
        "#         line = False\n",
        "#         break\n",
        "#     # 檢查這三個是否為同個東西\n",
        "#     j = j + 1\n",
        "# print(line)"
      ],
      "metadata": {
        "colab": {
          "base_uri": "https://localhost:8080/"
        },
        "id": "gLZ76FVWix_-",
        "outputId": "5ecab5b7-87e5-49f9-b46b-cdd38135c625"
      },
      "execution_count": 18,
      "outputs": [
        {
          "output_type": "stream",
          "name": "stdout",
          "text": [
            "False\n"
          ]
        }
      ]
    },
    {
      "cell_type": "code",
      "source": [
        "# 雖然上面可以擴充, 但我覺得可讀性相對來說有點差, 所以我犧牲擴充性\n",
        "# 橫的確認\n",
        "board = [\n",
        "    [ 0,  0,  0],\n",
        "    [-1, -1, -1],\n",
        "    [ 1,  1,  1]\n",
        "]\n",
        "i = 0\n",
        "while i < 3:\n",
        "    row = i\n",
        "    if not board[row][0] == -1:\n",
        "        if board[row][0] == board[row][1] == board[row][2]:\n",
        "            print(row, \"連線了\")\n",
        "        else:\n",
        "            print(row, \"沒有連線\")\n",
        "    else:\n",
        "        print(row, \"頭一個沒被選擇\")\n",
        "    i = i + 1"
      ],
      "metadata": {
        "colab": {
          "base_uri": "https://localhost:8080/"
        },
        "id": "nFHqnLa_l11T",
        "outputId": "cb2076c4-b75a-40aa-df91-0e45769d7bad"
      },
      "execution_count": 25,
      "outputs": [
        {
          "output_type": "stream",
          "name": "stdout",
          "text": [
            "0 連線了\n",
            "1 頭一個沒被選擇\n",
            "2 連線了\n"
          ]
        }
      ]
    },
    {
      "cell_type": "code",
      "source": [
        "# 直的確認\n",
        "board = [\n",
        "    [ 0, -1,  1],\n",
        "    [ 0, -1,  1],\n",
        "    [ 0, -1,  1]\n",
        "]\n",
        "i = 0\n",
        "while i < 3:\n",
        "    col = i\n",
        "    if not board[0][col] == -1:\n",
        "        if board[0][col] == board[1][col] == board[2][col]:\n",
        "            print(col, \"連線了\")\n",
        "        else:\n",
        "            print(col, \"沒有連線\")\n",
        "    else:\n",
        "        print(col, \"頭一個沒被選擇\")\n",
        "    i = i + 1"
      ],
      "metadata": {
        "colab": {
          "base_uri": "https://localhost:8080/"
        },
        "id": "WiBGPIhVqjtE",
        "outputId": "2d6b5164-d28b-45fc-fa90-bc70e6c52a40"
      },
      "execution_count": 30,
      "outputs": [
        {
          "output_type": "stream",
          "name": "stdout",
          "text": [
            "0 連線了\n",
            "1 頭一個沒被選擇\n",
            "2 連線了\n"
          ]
        }
      ]
    }
  ]
}