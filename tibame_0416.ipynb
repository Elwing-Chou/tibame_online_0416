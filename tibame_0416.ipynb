{
  "nbformat": 4,
  "nbformat_minor": 0,
  "metadata": {
    "colab": {
      "provenance": [],
      "authorship_tag": "ABX9TyOejjF+Pu6e+wvNO1E68L+m",
      "include_colab_link": true
    },
    "kernelspec": {
      "name": "python3",
      "display_name": "Python 3"
    },
    "language_info": {
      "name": "python"
    }
  },
  "cells": [
    {
      "cell_type": "markdown",
      "metadata": {
        "id": "view-in-github",
        "colab_type": "text"
      },
      "source": [
        "<a href=\"https://colab.research.google.com/github/Elwing-Chou/tibame_online_0416/blob/main/tibame_0416.ipynb\" target=\"_parent\"><img src=\"https://colab.research.google.com/assets/colab-badge.svg\" alt=\"Open In Colab\"/></a>"
      ]
    },
    {
      "cell_type": "markdown",
      "source": [
        "\n",
        "\n",
        "```\n",
        "1. repl.it: 完整.py, 第一行直行到最後一行\n",
        "2. colab: 使用的是python的一個函式庫jupyter, 它可以讓你寫一段執行一段, 這個時候附檔名通常會是.ipynb\n",
        "```\n",
        "\n"
      ],
      "metadata": {
        "id": "zC0BWuWJVKlI"
      }
    },
    {
      "cell_type": "code",
      "execution_count": null,
      "metadata": {
        "id": "EF_QodiuTAPC"
      },
      "outputs": [],
      "source": [
        "# 迴圈: 次數<後面, i=0...9\n",
        "i = 0\n",
        "while i < 10:\n",
        "    n = 20 - 2 * i\n",
        "    print(n)\n",
        "    i = i + 1"
      ]
    },
    {
      "cell_type": "code",
      "source": [
        "# list型態:\n",
        "a = [90, 20, 30]\n",
        "print(a[2])\n",
        "# 拿了做事再設定回去\n",
        "# b = 10\n",
        "# b = b + 2\n",
        "a[0] = 180\n",
        "print(a)\n",
        "a[0] = a[0] + 50\n",
        "print(a)"
      ],
      "metadata": {
        "colab": {
          "base_uri": "https://localhost:8080/"
        },
        "id": "Y5677PooYMb5",
        "outputId": "d05c0d86-157f-42c6-be7e-2f0e75cb6494"
      },
      "execution_count": 7,
      "outputs": [
        {
          "output_type": "stream",
          "name": "stdout",
          "text": [
            "30\n",
            "[180, 20, 30]\n",
            "[230, 20, 30]\n"
          ]
        }
      ]
    }
  ]
}