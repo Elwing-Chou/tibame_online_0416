{
  "nbformat": 4,
  "nbformat_minor": 0,
  "metadata": {
    "colab": {
      "provenance": [],
      "mount_file_id": "1vh5XRcGiCK8eWfLzPg41To4wU0ufayoO",
      "authorship_tag": "ABX9TyPnSUXUgabMswsHlF+i7+eZ",
      "include_colab_link": true
    },
    "kernelspec": {
      "name": "python3",
      "display_name": "Python 3"
    },
    "language_info": {
      "name": "python"
    }
  },
  "cells": [
    {
      "cell_type": "markdown",
      "metadata": {
        "id": "view-in-github",
        "colab_type": "text"
      },
      "source": [
        "<a href=\"https://colab.research.google.com/github/Elwing-Chou/tibame_online_0416/blob/main/tibame_0430_night.ipynb\" target=\"_parent\"><img src=\"https://colab.research.google.com/assets/colab-badge.svg\" alt=\"Open In Colab\"/></a>"
      ]
    },
    {
      "cell_type": "code",
      "execution_count": null,
      "metadata": {
        "id": "dqAlj3xaZKxc"
      },
      "outputs": [],
      "source": [
        "import json\n",
        "import urllib.request as req\n",
        "import bs4 as bs\n",
        "\n",
        "def save_post_meta(url):\n",
        "    # url = \"https://www.ptt.cc/bbs/Beauty/M.1745582404.A.011.html\"\n",
        "    r = req.Request(url)\n",
        "    r.add_header(\"User-Agent\", \"Mozilla/5.0 (Windows NT 10.0; Win64; x64) AppleWebKit/537.36 (KHTML, like Gecko) Chrome/135.0.0.0 Safari/537.36 Edg/135.0.0.0\")\n",
        "    resp = req.urlopen(r)\n",
        "    html = bs.BeautifulSoup(resp.read())\n",
        "    # 作者/看版/標題/日期\n",
        "    metas = html.find_all(\"span\", {\"class\":\"article-meta-value\"})\n",
        "    uid_text = metas[0].text\n",
        "    board_text = metas[1].text\n",
        "    title_text = metas[2].text\n",
        "    time_text = metas[3].text\n",
        "    # print(uid_text, board_text, title_text, time_text, sep=\"\\n\")\n",
        "    # 每個推虛文 [{\"type\":\"\", \"id\":\"\", \"text\":\"\", \"date_ip\":\"\"}]\n",
        "    # JSON格式: {\"左者\": \"看板\": \"表提\": \"推虛文\":[]}\n",
        "    push_list = []\n",
        "    pushes = html.find_all(\"div\", {\"class\":\"push\"})\n",
        "    for push in pushes:\n",
        "        push_meta = push.find_all(\"span\")\n",
        "        # 推噓處理\n",
        "        push_type_text = push_meta[0].text\n",
        "        if \"推\" in push_type_text:\n",
        "            push_type_text = 1\n",
        "        elif \"噓\" in push_type_text:\n",
        "            push_type_text = -1\n",
        "        else:\n",
        "            push_type_text = 0\n",
        "        # 推噓id\n",
        "        push_id_text = push_meta[1].text\n",
        "        # 推噓內容\n",
        "        push_content_text = push_meta[2].text.replace(\": \", \"\")\n",
        "        # 推噓ipdate\n",
        "        push_ipdate_text = push_meta[3].text.strip()\n",
        "        # print(push_type_text, push_id_text, push_content_text, push_ipdate_text, sep=\"\\t\")\n",
        "        push_data = {\n",
        "            \"type\":push_type_text,\n",
        "            \"id\":push_id_text,\n",
        "            \"text\":push_content_text,\n",
        "            \"date_ip\":push_ipdate_text\n",
        "        }\n",
        "        push_list.append(push_data)\n",
        "    # print(push_list)\n",
        "    post = {\n",
        "        \"作者\":uid_text,\n",
        "        \"看板\":board_text,\n",
        "        \"標題\":title_text,\n",
        "        \"日期\":time_text,\n",
        "        \"推噓文\":push_list,\n",
        "    }\n",
        "    # print(post)\n",
        "    fn = url.split(\"/\")[-1] + \".json\"\n",
        "    with open(fn, \"w\", encoding=\"utf-8\") as f:\n",
        "        json.dump(post, f, ensure_ascii=False, indent=4)"
      ]
    },
    {
      "cell_type": "markdown",
      "source": [
        "\n",
        "\n",
        "```\n",
        "當你發現你沒有class/id做篩選的時候\n",
        "1. 找他老爸\n",
        "2. 自己想辦法篩選\n",
        "```\n",
        "\n"
      ],
      "metadata": {
        "id": "Xyv5dgyiannH"
      }
    },
    {
      "cell_type": "code",
      "source": [
        "import json\n",
        "import urllib.request as req\n",
        "import bs4 as bs\n",
        "import os\n",
        "\n",
        "def save_post_img(url):\n",
        "    # url = \"https://www.ptt.cc/bbs/Beauty/M.1745582404.A.011.html\"\n",
        "    # prepare directory\n",
        "    dn = url.split(\"/\")[-1]\n",
        "    if not os.path.exists(dn):\n",
        "        os.makedirs(dn)\n",
        "\n",
        "    r = req.Request(url)\n",
        "    r.add_header(\"User-Agent\", \"Mozilla/5.0 (Windows NT 10.0; Win64; x64) AppleWebKit/537.36 (KHTML, like Gecko) Chrome/135.0.0.0 Safari/537.36 Edg/135.0.0.0\")\n",
        "    resp = req.urlopen(r)\n",
        "    html = bs.BeautifulSoup(resp.read())\n",
        "\n",
        "    allow_sub = [\"jpg\", \"jpeg\", \"png\", \"gif\"]\n",
        "    link_list = html.find_all(\"a\")\n",
        "    for link in link_list:\n",
        "        link_href = link[\"href\"]\n",
        "        sub = link_href.split(\".\")[-1]\n",
        "        # lower是字串的專屬功能\n",
        "        if sub.lower() in allow_sub:\n",
        "            img_url = link_href\n",
        "            # 如果對面什麼都沒檢查, 最簡單的一訂是urlretrieve\n",
        "            r = req.Request(img_url)\n",
        "            r.add_header(\"User-Agent\", \"Mozilla/5.0 (Windows NT 10.0; Win64; x64) AppleWebKit/537.36 (KHTML, like Gecko) Chrome/135.0.0.0 Safari/537.36 Edg/135.0.0.0\")\n",
        "            img_resp = req.urlopen(r)\n",
        "            img_content = img_resp.read()\n",
        "            # 存檔的時候 你要開啟檔案在本地端, 把剛才的內容寫進去\n",
        "            # 之前教你open的時候, 第二個參數 w r  + encoding=\"utf-8\" -> for 純文字\n",
        "            #                              wb rb -> for 非純文字\n",
        "            fn = dn + \"/\" + img_url.split(\"/\")[-1]\n",
        "            with open(fn, \"wb\") as f:\n",
        "                f.write(img_content)"
      ],
      "metadata": {
        "id": "RctnOVt3bIEB"
      },
      "execution_count": null,
      "outputs": []
    },
    {
      "cell_type": "code",
      "source": [
        "# os.path這件事我們後面會解釋\n",
        "import os\n",
        "# 如果資料夾不存在, 就創起來\n",
        "if not os.path.exists(\"a/b\"):\n",
        "    os.makedirs(\"a/b\")\n",
        "\n",
        "img_url = \"https://i.imgur.com/S20cVi5.jpeg\"\n",
        "# 如果對面什麼都沒檢查, 最簡單的一訂是urlretrieve\n",
        "r = req.Request(img_url)\n",
        "r.add_header(\"User-Agent\", \"Mozilla/5.0 (Windows NT 10.0; Win64; x64) AppleWebKit/537.36 (KHTML, like Gecko) Chrome/135.0.0.0 Safari/537.36 Edg/135.0.0.0\")\n",
        "img_resp = req.urlopen(r)\n",
        "img_content = img_resp.read()\n",
        "# 存檔的時候 你要開啟檔案在本地端, 把剛才的內容寫進去\n",
        "# 之前教你open的時候, 第二個參數 w r  + encoding=\"utf-8\" -> for 純文字\n",
        "#                              wb rb -> for 非純文字\n",
        "with open(\"a/b/test.png\", \"wb\") as f:\n",
        "    f.write(img_content)"
      ],
      "metadata": {
        "id": "b9BueQu_dp1J"
      },
      "execution_count": null,
      "outputs": []
    },
    {
      "cell_type": "code",
      "source": [
        "import json\n",
        "import urllib.request as req\n",
        "import bs4 as bs\n",
        "import os\n",
        "\n",
        "url = \"https://www.ptt.cc/bbs/Beauty/index4000.html\"\n",
        "r = req.Request(url)\n",
        "r.add_header(\"User-Agent\", \"Mozilla/5.0 (Windows NT 10.0; Win64; x64) AppleWebKit/537.36 (KHTML, like Gecko) Chrome/135.0.0.0 Safari/537.36 Edg/135.0.0.0\")\n",
        "resp = req.urlopen(r)\n",
        "html = bs.BeautifulSoup(resp.read())\n",
        "\n",
        "div_list = html.find_all(\"div\", {\"class\":\"title\"})\n",
        "for div in div_list:\n",
        "    post_link = div.find(\"a\")\n",
        "    if not post_link == None:\n",
        "        post_link_url = \"https://www.ptt.cc\" + post_link[\"href\"]\n",
        "        print(post_link_url)\n",
        "        save_post_meta(post_link_url)\n",
        "        save_post_img(post_link_url)"
      ],
      "metadata": {
        "id": "2rr8pzUEszP0"
      },
      "execution_count": null,
      "outputs": []
    },
    {
      "cell_type": "code",
      "source": [
        "# 如果你要把雲端硬碟當成隨身碟\n",
        "dn = \"drive/MyDrive/tiba0430\"\n",
        "if not os.path.exists(dn):\n",
        "    os.makedirs(dn)\n",
        "fn = dn + \"/\" + \"a.txt\"\n",
        "with open(fn, \"w\", encoding=\"utf-8\") as f:\n",
        "    f.write(\"abcde\")"
      ],
      "metadata": {
        "id": "a9LCgO2Eyqx7"
      },
      "execution_count": null,
      "outputs": []
    },
    {
      "cell_type": "code",
      "source": [
        "!zip -r /content/file.zip /content/M.1745582404.A.011.html"
      ],
      "metadata": {
        "id": "GfOkQYiMzZuJ"
      },
      "execution_count": null,
      "outputs": []
    },
    {
      "cell_type": "code",
      "source": [
        "import glob\n",
        "import json\n",
        "import pandas as pd\n",
        "# [{}, {}, {}]\n",
        "table = []\n",
        "for fn in glob.glob(\"M.*.json\"):\n",
        "    with open(fn, \"r\", encoding=\"utf-8\") as f:\n",
        "        data = json.loads(f.read())\n",
        "        table.append(data)\n",
        "\n",
        "df = pd.json_normalize(table)\n",
        "df.to_csv(\"ptt.csv\", encoding=\"utf-8\")"
      ],
      "metadata": {
        "id": "4wLeU_Xm0xF4"
      },
      "execution_count": 27,
      "outputs": []
    },
    {
      "cell_type": "markdown",
      "source": [
        "```\n",
        "0. 中文分析: 分詞 我喜歡你-> 我/喜歡/你\n",
        "抓出關鍵詞:\n",
        "1. 出現次數: 越高, 越重要\n",
        "2. 平常出現的頻率: 越低, 越重要\n",
        "\n",
        "詞彙重要性(TF-IDF): 次數(TF) * 1/平常出現頻率(IDF)\n",
        "```"
      ],
      "metadata": {
        "id": "GakPPAvc53Og"
      }
    },
    {
      "cell_type": "code",
      "source": [
        "news = \"\"\"美國總統川普今天在密西根州慶祝他就職百日。在他經濟因應之道引發質疑的此時，他承諾他的總統任期才剛起步，並提及包括輝達和台積電的企業都在美投資。\n",
        "\n",
        "綜合路透社、法新社等外媒報導，在抵達塞夫里治空軍國民兵基地（Selfridge Air National Guard Base）時，川普發表簡短談話，先是宣傳自己行政團隊在國防上的投資，並讚頌他2017至2021年第一個總統任期的外交政策紀錄。\n",
        "\n",
        "他說國防部長赫格塞斯（Pete Hegseth）表現「十分傑出」，但未提及不久前曝光、有關赫格塞斯與私下與熟人討論高度敏感軍事資訊的事件。\n",
        "\n",
        "共和黨籍的川普並相對罕見地展現跨黨派風度，盛讚密西根州民主黨籍州長惠特梅爾（Gretchen Whitmer），說她在「拯救」位於底特律（Detroit）東北方的塞夫里治基地上扮演關鍵角色。當地媒體去年報導，這處基地的未來令人擔憂。\n",
        "\n",
        "川普在數十名軍人及惠特梅爾、赫格塞斯面前說：「我將支持破紀錄的1兆美元國防投資。」\n",
        "\n",
        "他在演說中表示，塞夫里治基地將接收21架波音（Boeing）F-15X戰機。惠特梅爾則是發布聲明表示，這一步不僅確保這座基地的使命，也是密西根州「莫大的跨黨派勝利」，因為這保障了許多工作。\"\"\""
      ],
      "metadata": {
        "id": "WAW1_Ipb824K"
      },
      "execution_count": 28,
      "outputs": []
    },
    {
      "cell_type": "code",
      "source": [
        "import jieba.analyse\n",
        "\n",
        "jieba.analyse.extract_tags(news)"
      ],
      "metadata": {
        "colab": {
          "base_uri": "https://localhost:8080/"
        },
        "id": "avhrINQF9X7U",
        "outputId": "9d71bbbd-b2a8-4825-e515-87a2272c7c01"
      },
      "execution_count": 29,
      "outputs": [
        {
          "output_type": "stream",
          "name": "stderr",
          "text": [
            "Building prefix dict from the default dictionary ...\n",
            "DEBUG:jieba:Building prefix dict from the default dictionary ...\n",
            "Dumping model to file cache /tmp/jieba.cache\n",
            "DEBUG:jieba:Dumping model to file cache /tmp/jieba.cache\n",
            "Loading model cost 0.846 seconds.\n",
            "DEBUG:jieba:Loading model cost 0.846 seconds.\n",
            "Prefix dict has been built successfully.\n",
            "DEBUG:jieba:Prefix dict has been built successfully.\n"
          ]
        },
        {
          "output_type": "execute_result",
          "data": {
            "text/plain": [
              "['塞夫',\n",
              " '密西根州',\n",
              " '投資',\n",
              " '塞斯',\n",
              " '基地',\n",
              " '總統',\n",
              " '報導',\n",
              " '赫格',\n",
              " '黨籍',\n",
              " '跨黨',\n",
              " '里治',\n",
              " '任期',\n",
              " '提及',\n",
              " '防部',\n",
              " '美國',\n",
              " '統川普',\n",
              " '慶祝',\n",
              " '經濟',\n",
              " '因應',\n",
              " '引發']"
            ]
          },
          "metadata": {},
          "execution_count": 29
        }
      ]
    },
    {
      "cell_type": "markdown",
      "source": [
        "tf-idf柿子\n",
        "os.path\n",
        "requests"
      ],
      "metadata": {
        "id": "t8YbcJ4x9JJM"
      }
    }
  ]
}